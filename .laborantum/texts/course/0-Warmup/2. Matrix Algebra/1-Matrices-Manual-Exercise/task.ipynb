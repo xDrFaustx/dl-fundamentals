{
    "cells": [
        {
            "cell_type": "code",
            "execution_count": 1,
            "id": "803a8d9e",
            "metadata": {},
            "outputs": [],
            "source": [
                "import numpy as np\n",
                "import json_tricks\n",
                "\n",
                "answer = {}\n",
                "\n",
                "\n",
                "inputs = json_tricks.load('inputs/inputs.json')"
            ]
        },
        {
            "cell_type": "markdown",
            "id": "41393305",
            "metadata": {},
            "source": [
                "# Task\n",
                "\n",
                "Perform the following operations:\n",
                "\n",
                "$$ 5 \\begin{bmatrix} 1 & 2 & 3 \\\\ 4 & 5 & 6 \\\\ 7 & 8 & 9 \\end{bmatrix} - 4 \\begin{bmatrix} 9 & 8 & 7 \\\\ 6 & 5 & 4 \\\\ 3 & 2 & 1 \\end{bmatrix} $$\n",
                "\n",
                "Write the answer in form of numpy array"
            ]
        },
        {
            "cell_type": "code",
            "execution_count": 2,
            "id": "2a329887",
            "metadata": {},
            "outputs": [],
            "source": [
                "answer['task1'] = np.array(\n",
                "    [[-31, -22, -13], [ -4,   5,  14], [ 23,  32,  41]]\n",
                ")"
            ]
        },
        {
            "cell_type": "markdown",
            "id": "66c2e0bf",
            "metadata": {},
            "source": [
                "# Matrix Transposition\n",
                "\n",
                "Transpose the matrix:\n",
                "\n",
                "$$\n",
                "\\begin{bmatrix}\n",
                "1 & 2 & 3 & 4 & 5 \\\\\n",
                "6 & 7 & 8 & 9 & 10\n",
                "\\end{bmatrix}\n",
                "$$"
            ]
        },
        {
            "cell_type": "code",
            "execution_count": 3,
            "id": "ec681251",
            "metadata": {},
            "outputs": [],
            "source": [
                "answer['task2'] = np.array(\n",
                "    [\n",
                "        [ 1,  6],\n",
                "        [ 2,  7],\n",
                "        [ 3,  8],\n",
                "        [ 4,  9],\n",
                "        [ 5, 10]\n",
                "    ]\n",
                ")"
            ]
        },
        {
            "cell_type": "markdown",
            "id": "37cc9496",
            "metadata": {},
            "source": [
                "# Calculate the Matrix Products\n",
                "\n",
                "1. \n",
                "$$\n",
                "\\begin{bmatrix}\n",
                "1 & 2 & 3 \\\\\n",
                "4 & 5 & 6 \\\\\n",
                "7 & 8 & 9\n",
                "\\end{bmatrix}\n",
                "\n",
                "\\begin{bmatrix}\n",
                "1 & 2 & 3 \\\\\n",
                "4 & 5 & 6 \\\\\n",
                "7 & 8 & 9\n",
                "\\end{bmatrix}\n",
                "$$\n",
                "\n",
                "2. \n",
                "$$\n",
                "\\begin{bmatrix}\n",
                "1 & 2 \\\\\n",
                "3 & 4\n",
                "\\end{bmatrix}\n",
                "\n",
                "\\begin{bmatrix}\n",
                "1 & 2 \\\\\n",
                "3 & 4\n",
                "\\end{bmatrix}\n",
                "\n",
                "\\begin{bmatrix}\n",
                "1 & 2 \\\\\n",
                "3 & 4\n",
                "\\end{bmatrix}\n",
                "$$\n",
                "\n",
                "3. \n",
                "$$\n",
                "\\begin{bmatrix}\n",
                "1 & 2 & 3 & 4 & 5 \\\\\n",
                "6 & 7 & 8 & 9 & 10\n",
                "\\end{bmatrix}\n",
                "\n",
                "\\begin{bmatrix}\n",
                "1 & 2 \\\\\n",
                "3 & 4 \\\\\n",
                "5 & 6 \\\\\n",
                "7 & 8 \\\\\n",
                "9 & 10\n",
                "\\end{bmatrix}\n",
                "\n",
                "\\begin{bmatrix}\n",
                "1 \\\\ 2\n",
                "\\end{bmatrix}\n",
                "$$"
            ]
        },
        {
            "cell_type": "code",
            "execution_count": 4,
            "id": "1ede5000",
            "metadata": {},
            "outputs": [],
            "source": [
                "answer['task3'] = {\n",
                "    '1': np.array(\n",
                "        [[30, 36, 42],[66, 81, 96], [102, 126, 150]]\n",
                "    ),\n",
                "    '2': np.array(\n",
                "        [[37, 54], [81, 118]]\n",
                "    ),\n",
                "    '3': np.array(\n",
                "        [[315], [740]]\n",
                "    )\n",
                "}"
            ]
        },
        {
            "cell_type": "markdown",
            "id": "0428d179",
            "metadata": {},
            "source": [
                "# Calculate the value\n",
                "\n",
                "$$\n",
                "\\frac{\\|A \\mathbf x\\|}{\\|\\mathbf x\\|},\n",
                "$$\n",
                "\n",
                "where\n",
                "\n",
                "$$\n",
                "A = \\begin{bmatrix}\n",
                "1 & 2 & 2 \\\\\n",
                "2 & 1 & 2 \\\\\n",
                "2 & 2 & 1\n",
                "\\end{bmatrix},\n",
                "\n",
                "\\mathbf x = \\begin{bmatrix}\n",
                "1 \\\\\n",
                "1 \\\\\n",
                "-1\n",
                "\\end{bmatrix}\n",
                "$$"
            ]
        },
        {
            "cell_type": "code",
            "execution_count": null,
            "id": "6273d527",
            "metadata": {},
            "outputs": [],
            "source": [
                "answer['task4'] = (\n",
                "    np.sqrt(11)/np.sqrt(3)\n",
                ")"
            ]
        },
        {
            "cell_type": "markdown",
            "id": "5b541231",
            "metadata": {},
            "source": [
                "# Numpy dot-product operator\n",
                "\n",
                "In `numpy` there is a dot-product operator. To calculate\n",
                "dot product of matrices `A` and `B`, you should run: \n",
                "`A @ B`, where `@` suddenly is an operator, like `+` or\n",
                "`*`.\n",
                "\n",
                "## Task\n",
                "\n",
                "You are given two matrices `A` and `B` in a form \n",
                "of `numpy.ndarray`. The task is to calculate the product\n",
                "`A @ B` using the standard `numpy` dot-product operator: `@`. \n",
                "Consider the shapes of matrices\n",
                "are such that you can perform dot-product.\n",
                "\n",
                "## Interface\n",
                "\n",
                "**Input**: `A, B: numpy.ndarrays`\n",
                "\n",
                "**Output**: `C: numpy.ndarray`"
            ]
        },
        {
            "cell_type": "code",
            "execution_count": 5,
            "id": "00cdd1c7",
            "metadata": {},
            "outputs": [],
            "source": [
                "def dot_product(A, B):\n",
                "    res = A @ B\n",
                "    return res"
            ]
        },
        {
            "cell_type": "code",
            "execution_count": 6,
            "id": "3409a4ce",
            "metadata": {},
            "outputs": [],
            "source": [
                "answer['task5'] = []\n",
                "for one_input in inputs['task5']:\n",
                "    answer['task5'].append(dot_product(**one_input))"
            ]
        },
        {
            "cell_type": "code",
            "execution_count": 7,
            "id": "b519a560",
            "metadata": {},
            "outputs": [
                {
                    "data": {
                        "text/plain": [
                            "'{\"task1\": {\"__ndarray__\": [[-31, -22, -13], [-4, 5, 14], [23, 32, 41]], \"dtype\": \"int64\", \"shape\": [3, 3], \"Corder\": true}, \"task2\": {\"__ndarray__\": [[1, 6], [2, 7], [3, 8], [4, 9], [5, 10]], \"dtype\": \"int64\", \"shape\": [5, 2], \"Corder\": true}, \"task3\": {\"1\": {\"__ndarray__\": [[30, 36, 42], [66, 81, 96], [102, 126, 150]], \"dtype\": \"int64\", \"shape\": [3, 3], \"Corder\": true}, \"2\": {\"__ndarray__\": [[37, 54], [81, 118]], \"dtype\": \"int64\", \"shape\": [2, 2], \"Corder\": true}, \"3\": {\"__ndarray__\": [[315], [740]], \"dtype\": \"int64\", \"shape\": [2, 1], \"Corder\": true}}, \"task5\": [{\"__ndarray__\": [[11, 37, -9, 5, 83, 31], [52, 0, -80, -75, 40, -18], [82, -8, -139, -46, -4, -101], [-20, -16, 48, 22, -37, 2], [-66, 8, 83, 15, -63, 17], [60, -96, 18, 84, -38, -42], [-88, 154, -57, 37, 7, -29], [36, -128, 94, 76, -34, 28]], \"dtype\": \"int64\", \"shape\": [8, 6], \"Corder\": true}, {\"__ndarray__\": [[28, -62, 152, 71, -118, 98, 120, 51], [-82, -126, -32, -47, -91, 115, 14, 20]], \"dtype\": \"int64\", \"shape\": [2, 8], \"Corder\": true}, {\"__ndarray__\": [[-130, -90, 54, -59, 9, -87, -113], [-214, -98, 20, 128, 29, -43, -218], [-24, -125, -63, 140, 44, 145, -42]], \"dtype\": \"int64\", \"shape\": [3, 7], \"Corder\": true}]}'"
                        ]
                    },
                    "execution_count": 7,
                    "metadata": {},
                    "output_type": "execute_result"
                }
            ],
            "source": [
                "json_tricks.dump(answer, '.answer.json')"
            ]
        }
    ],
    "metadata": {
        "kernelspec": {
            "display_name": "Python (Container)",
            "language": "python",
            "name": "container_env"
        },
        "language_info": {
            "codemirror_mode": {
                "name": "ipython",
                "version": 3
            },
            "file_extension": ".py",
            "mimetype": "text/x-python",
            "name": "python",
            "nbconvert_exporter": "python",
            "pygments_lexer": "ipython3",
            "version": "3.11.13"
        }
    },
    "nbformat": 4,
    "nbformat_minor": 5
}
