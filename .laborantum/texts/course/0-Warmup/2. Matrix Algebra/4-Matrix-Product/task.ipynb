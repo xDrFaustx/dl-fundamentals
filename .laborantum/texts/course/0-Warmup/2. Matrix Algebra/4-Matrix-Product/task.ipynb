{
    "cells": [
        {
            "cell_type": "code",
            "execution_count": 1,
            "id": "acceacb5",
            "metadata": {},
            "outputs": [],
            "source": [
                "import numpy as np\n",
                "import json_tricks\n",
                "\n",
                "answer = {}\n",
                "\n",
                "\n",
                "inputs = json_tricks.load('inputs/inputs.json')\n"
            ]
        },
        {
            "cell_type": "markdown",
            "id": "2a65a805",
            "metadata": {},
            "source": [
                "# Matrix Product II\n",
                "\n",
                "$$A_{5 \\times 10} \\  B_{10 \\times 2}\\ C_{2 \\times 30}\\ D_{30 \\times 3}\\ E_{3 \\times 9}$$\n",
                "\n",
                "1. What will be the shape of the resulting matrix?\n",
                "2. How many multiplication of numbers are required at best?"
            ]
        },
        {
            "cell_type": "code",
            "execution_count": 2,
            "id": "70ec671d",
            "metadata": {},
            "outputs": [],
            "source": [
                "answer['task1'] = {\n",
                "    '1': [5,9],\n",
                "    '2': 424\n",
                "}\n",
                "\n"
            ]
        },
        {
            "cell_type": "markdown",
            "id": "a134c56f",
            "metadata": {},
            "source": [
                "# Numpy expression\n",
                "\n",
                "Using Numpy, write a function that calculates the \n",
                "following expression:\n",
                "\n",
                "$$\\exp(A^T(B + 2C) + 3I) \\mathbf x,$$\n",
                "\n",
                "where $I$ is an identity matrix of the necessary shape."
            ]
        },
        {
            "cell_type": "code",
            "execution_count": 3,
            "id": "71c02732",
            "metadata": {},
            "outputs": [],
            "source": [
                "def numpy_expression(A, B, C, x):\n",
                "    intermediate = A.T @ (B + 2 * C) \n",
                "    res = np.exp(intermediate + 3 * np.eye(*intermediate.shape))@x\n",
                "    return res"
            ]
        },
        {
            "cell_type": "code",
            "execution_count": 4,
            "id": "e93e082d",
            "metadata": {},
            "outputs": [],
            "source": [
                "answer['task2'] = []\n",
                "for one_input in inputs['task2']:\n",
                "    answer['task2'].append(numpy_expression(**one_input))"
            ]
        },
        {
            "cell_type": "markdown",
            "id": "2aef45b9",
            "metadata": {},
            "source": [
                "# Einstein's Rule\n",
                "\n",
                "In *Tensor Algebra*, a direct generalization of the Linear Algebra to the case of $N$-dimentional tables called *tensors* (normal matrix), the Einstein's rule exists.\n",
                "\n",
                "It works as follows: if you see a duplicating upper and lower index in the formula, that means, this index convolves.\n",
                "\n",
                "For example, the following tensor expression, summation and matrix product are equivalent:\n",
                "\n",
                "$$a_k^l b_l^m = \\sum_{l=1}^L a_k^l b_l^m = AB$$\n",
                "\n",
                "In this notation subscript means row index and superscript means column index.\n",
                "\n",
                "<details>\n",
                "<summary> Note </summary>\n",
                "\n",
                "> [!NOTE]\n",
                "> Also at some point it will be important to know that:\n",
                "> * lower index represents a contravariant dimension of a\n",
                "> tensor\n",
                "> * upper index represents a covariant dimension \n",
                "> of tensor. But let us omit this part for now.\n",
                "\n",
                "</details>\n",
                "\n",
                "# Task\n",
                "\n",
                "Calculate the following expression written using Einstein's \n",
                "rule:\n",
                "\n",
                "$$a_k^m b_m^n c_n^o d_l^k$$"
            ]
        },
        {
            "cell_type": "code",
            "execution_count": 5,
            "id": "3feb6914",
            "metadata": {},
            "outputs": [],
            "source": [
                "def einsteins_rule(A, B, C, D):\n",
                "    res = np.einsum('km, mn, no, lk -> lo', A, B, C, D)\n",
                "    return res"
            ]
        },
        {
            "cell_type": "code",
            "execution_count": 6,
            "id": "f9cd1e7e",
            "metadata": {},
            "outputs": [],
            "source": [
                "answer['task3'] = []\n",
                "for one_input in inputs['task3']:\n",
                "    answer['task3'].append(einsteins_rule(**one_input))"
            ]
        },
        {
            "cell_type": "markdown",
            "id": "ad37cd42",
            "metadata": {},
            "source": [
                "# Diagonal Matrix Product\n",
                "\n",
                "You are given two square matrices: $A$ and $D$, where $A$ is a \n",
                "full matrix and $D$ is a diagonal matrix:\n",
                "\n",
                "$$\n",
                "A = \\begin{bmatrix}\n",
                "- & \\mathbf a_1 & - \\\\\n",
                "& \\vdots & \\\\\n",
                "- & \\mathbf a_N & - \\\\\n",
                "\\end{bmatrix}\n",
                "$$\n",
                "\n",
                "$$\n",
                "D = \\textrm{diag}(d_1, d_2, \\dots, d_N) = \\begin{bmatrix}\n",
                "d_1 & & & & \\\\\n",
                "& d_2 & & & \\\\\n",
                "& & d_3 & & \\\\\n",
                "& & & \\ddots & \\\\\n",
                "& & & & d_N \n",
                "\\end{bmatrix}\n",
                "$$\n",
                "\n",
                "Write a program to calculate the result of $DA$ and $AD$ in \n",
                "the fastest possible way."
            ]
        },
        {
            "cell_type": "code",
            "execution_count": 7,
            "id": "af333a41",
            "metadata": {},
            "outputs": [],
            "source": [
                "def diag_prod_DA(A, D):\n",
                "    v = np.diag(D)\n",
                "    return A * v[:, np.newaxis]\n",
                "\n",
                "def diag_prod_AD(A, D):\n",
                "    v = np.diag(D)\n",
                "    return A * v[np.newaxis, :]"
            ]
        },
        {
            "cell_type": "code",
            "execution_count": 8,
            "id": "68f65717",
            "metadata": {},
            "outputs": [],
            "source": [
                "answer['task4_1'] = []\n",
                "answer['task4_2'] = []\n",
                "for one_input in inputs['task4']:\n",
                "    answer['task4_1'].append(diag_prod_DA(**one_input))\n",
                "    answer['task4_2'].append(diag_prod_AD(**one_input))"
            ]
        },
        {
            "cell_type": "markdown",
            "id": "fc7b3dc4",
            "metadata": {},
            "source": [
                "# Sparse Matrix Product\n",
                "\n",
                "You are given two matrices of the same shape: $A$ and $B$. Matrix $A$ is full\n",
                "and is given in the form of `numpy.ndarray`.\n",
                "\n",
                "The second matrix $B$ is **sparse**. That means that the \n",
                "majority of the items are equal to $0$ except for $M$. This matrix is given\n",
                "as a set of non-zero elements of this matrix in form of $3 \\times M$ `numpy.ndarray` as row-column-value tuple (COO sparse matrix form):\n",
                "\n",
                "$$\n",
                "\\begin{bmatrix}\n",
                "r_1 & c_1 & v_1 \\\\\n",
                "r_2 & c_2 & v_2 \\\\\n",
                "& \\vdots & \\\\\n",
                "r_M & c_M & v_M \\\\\n",
                "\\end{bmatrix}\n",
                "$$\n",
                "\n",
                "If in this struct two items correspond to the same location, consider the latter is correct.\n",
                "\n",
                "Write the most efficient program that calculates $AB$.\n",
                "\n",
                "Also return the ratio between the number of multiplication operations that are needed to calculate the sparse product and the number of operations for full product."
            ]
        },
        {
            "cell_type": "code",
            "execution_count": 9,
            "id": "6a439900",
            "metadata": {},
            "outputs": [],
            "source": [
                "from scipy.sparse import coo_matrix\n",
                "def sparse_matrix_product(A, B_sparse):\n",
                "    m, n = A.shape\n",
                "    \n",
                "    B = B_sparse.T\n",
                "\n",
                "    max_row = int(np.max(B[:, 0])) + 1\n",
                "    max_col = int(np.max(B[:, 1])) + 1\n",
                "    k = max_col\n",
                "    \n",
                "    res = np.zeros((m, k))\n",
                "    sparse_mult_count = 0.0\n",
                "    \n",
                "    for entry in B:\n",
                "        r_b, c_b, value_b = entry[0], entry[1], entry[2]\n",
                "                \n",
                "        for i in range(m):\n",
                "            res[i, c_b] += A[i, r_b] * value_b\n",
                "            sparse_mult_count += 1\n",
                "    \n",
                "    full_mult_count = m * n * k\n",
                "    \n",
                "    ratio = sparse_mult_count / float(m * n * k)\n",
                "    return res, ratio\n"
            ]
        },
        {
            "cell_type": "code",
            "execution_count": 10,
            "id": "2db5922f",
            "metadata": {},
            "outputs": [],
            "source": [
                "answer['task5'] = []\n",
                "for one_input in inputs['task5']:\n",
                "    answer['task5'].append(sparse_matrix_product(**one_input))"
            ]
        },
        {
            "cell_type": "code",
            "execution_count": 11,
            "id": "08e12548",
            "metadata": {},
            "outputs": [
                {
                    "data": {
                        "text/plain": [
                            "'{\"task1\": {\"1\": [5, 9], \"2\": 424}, \"task2\": [{\"__ndarray__\": [[129.28183698947615], [1.2706705664732254]], \"dtype\": \"float64\", \"shape\": [2, 1], \"Corder\": true}, {\"__ndarray__\": [[-19.814866356714443], [-22026.45231891272]], \"dtype\": \"float64\", \"shape\": [2, 1], \"Corder\": true}, {\"__ndarray__\": [[-1.0202138409972563], [-196988010.4959191]], \"dtype\": \"float64\", \"shape\": [2, 1], \"Corder\": true}, {\"__ndarray__\": [[148.4198970495757], [7.389391561558553]], \"dtype\": \"float64\", \"shape\": [2, 1], \"Corder\": true}, {\"__ndarray__\": [[970330390.7646337], [-65970.20108435386]], \"dtype\": \"float64\", \"shape\": [2, 1], \"Corder\": true}, {\"__ndarray__\": [[-445.23947730772977], [-3.0]], \"dtype\": \"float64\", \"shape\": [2, 1], \"Corder\": true}, {\"__ndarray__\": [[-23502.394195740686], [-0.005612492598890043]], \"dtype\": \"float64\", \"shape\": [2, 1], \"Corder\": true}, {\"__ndarray__\": [[-0.002478721716706869], [-2.9469672762675123e-07]], \"dtype\": \"float64\", \"shape\": [2, 1], \"Corder\": true}, {\"__ndarray__\": [[5.436551368493384], [5.436316837309917]], \"dtype\": \"float64\", \"shape\": [2, 1], \"Corder\": true}, {\"__ndarray__\": [[-4.509453221087034e-06], [-38.171073846375336]], \"dtype\": \"float64\", \"shape\": [2, 1], \"Corder\": true}], \"task3\": [{\"__ndarray__\": [[36, 6], [12, 26]], \"dtype\": \"int64\", \"shape\": [2, 2], \"Corder\": true}, {\"__ndarray__\": [[80, 20], [32, 8]], \"dtype\": \"int64\", \"shape\": [2, 2], \"Corder\": true}, {\"__ndarray__\": [[0, 9], [0, 2]], \"dtype\": \"int64\", \"shape\": [2, 2], \"Corder\": true}, {\"__ndarray__\": [[11, 8], [-10, -8]], \"dtype\": \"int64\", \"shape\": [2, 2], \"Corder\": true}, {\"__ndarray__\": [[-132, 24], [-96, 12]], \"dtype\": \"int64\", \"shape\": [2, 2], \"Corder\": true}, {\"__ndarray__\": [[0, 0], [-3, -6]], \"dtype\": \"int64\", \"shape\": [2, 2], \"Corder\": true}, {\"__ndarray__\": [[19, -33], [14, -30]], \"dtype\": \"int64\", \"shape\": [2, 2], \"Corder\": true}, {\"__ndarray__\": [[1, 3], [-9, 27]], \"dtype\": \"int64\", \"shape\": [2, 2], \"Corder\": true}, {\"__ndarray__\": [[48, 48], [-36, -36]], \"dtype\": \"int64\", \"shape\": [2, 2], \"Corder\": true}, {\"__ndarray__\": [[0, 0], [18, 0]], \"dtype\": \"int64\", \"shape\": [2, 2], \"Corder\": true}], \"task4_1\": [{\"__ndarray__\": [[-2, -4], [0, 0]], \"dtype\": \"int64\", \"shape\": [2, 2], \"Corder\": true}, {\"__ndarray__\": [[-4, 4], [0, 0]], \"dtype\": \"int64\", \"shape\": [2, 2], \"Corder\": true}, {\"__ndarray__\": [[0, -6], [1, 1]], \"dtype\": \"int64\", \"shape\": [2, 2], \"Corder\": true}, {\"__ndarray__\": [[0, 0], [0, 0]], \"dtype\": \"int64\", \"shape\": [2, 2], \"Corder\": true}, {\"__ndarray__\": [[-2, -2], [0, -6]], \"dtype\": \"int64\", \"shape\": [2, 2], \"Corder\": true}, {\"__ndarray__\": [[6, 9], [3, 0]], \"dtype\": \"int64\", \"shape\": [2, 2], \"Corder\": true}, {\"__ndarray__\": [[6, -6], [0, 0]], \"dtype\": \"int64\", \"shape\": [2, 2], \"Corder\": true}, {\"__ndarray__\": [[0, 0], [2, 1]], \"dtype\": \"int64\", \"shape\": [2, 2], \"Corder\": true}, {\"__ndarray__\": [[6, 6], [-1, -2]], \"dtype\": \"int64\", \"shape\": [2, 2], \"Corder\": true}, {\"__ndarray__\": [[0, 4], [-1, 0]], \"dtype\": \"int64\", \"shape\": [2, 2], \"Corder\": true}], \"task4_2\": [{\"__ndarray__\": [[-2, -4], [0, 0]], \"dtype\": \"int64\", \"shape\": [2, 2], \"Corder\": true}, {\"__ndarray__\": [[-4, 0], [0, 0]], \"dtype\": \"int64\", \"shape\": [2, 2], \"Corder\": true}, {\"__ndarray__\": [[0, -2], [3, 1]], \"dtype\": \"int64\", \"shape\": [2, 2], \"Corder\": true}, {\"__ndarray__\": [[0, 0], [0, 0]], \"dtype\": \"int64\", \"shape\": [2, 2], \"Corder\": true}, {\"__ndarray__\": [[-2, 6], [0, -6]], \"dtype\": \"int64\", \"shape\": [2, 2], \"Corder\": true}, {\"__ndarray__\": [[6, 9], [3, 0]], \"dtype\": \"int64\", \"shape\": [2, 2], \"Corder\": true}, {\"__ndarray__\": [[6, 0], [3, 0]], \"dtype\": \"int64\", \"shape\": [2, 2], \"Corder\": true}, {\"__ndarray__\": [[0, 0], [4, 1]], \"dtype\": \"int64\", \"shape\": [2, 2], \"Corder\": true}, {\"__ndarray__\": [[6, -2], [3, -2]], \"dtype\": \"int64\", \"shape\": [2, 2], \"Corder\": true}, {\"__ndarray__\": [[0, -2], [2, 0]], \"dtype\": \"int64\", \"shape\": [2, 2], \"Corder\": true}], \"task5\": [[{\"__ndarray__\": [[-10.0], [0.0]], \"dtype\": \"float64\", \"shape\": [2, 1], \"Corder\": true}, 2.0], [{\"__ndarray__\": [[0.0, 9.0], [0.0, -3.0]], \"dtype\": \"float64\", \"shape\": [2, 2], \"Corder\": true}, 0.5], [{\"__ndarray__\": [[4.0], [-6.0]], \"dtype\": \"float64\", \"shape\": [2, 1], \"Corder\": true}, 0.5], [{\"__ndarray__\": [[6.0, -1.0], [9.0, 0.0]], \"dtype\": \"float64\", \"shape\": [2, 2], \"Corder\": true}, 0.75], [{\"__ndarray__\": [[0.0, -2.0], [0.0, -4.0]], \"dtype\": \"float64\", \"shape\": [2, 2], \"Corder\": true}, 0.25], [{\"__ndarray__\": [[-6.0, -4.0], [3.0, 2.0]], \"dtype\": \"float64\", \"shape\": [2, 2], \"Corder\": true}, 0.75], [{\"__ndarray__\": [[0.0, 0.0], [0.0, -2.0]], \"dtype\": \"float64\", \"shape\": [2, 2], \"Corder\": true}, 0.25], [{\"__ndarray__\": [[3.0], [9.0]], \"dtype\": \"float64\", \"shape\": [2, 1], \"Corder\": true}, 0.5], [{\"__ndarray__\": [[-4.0], [0.0]], \"dtype\": \"float64\", \"shape\": [2, 1], \"Corder\": true}, 0.5], [{\"__ndarray__\": [[-1.0, 0.0], [0.0, 0.0]], \"dtype\": \"float64\", \"shape\": [2, 2], \"Corder\": true}, 0.5]]}'"
                        ]
                    },
                    "execution_count": 11,
                    "metadata": {},
                    "output_type": "execute_result"
                }
            ],
            "source": [
                "json_tricks.dump(answer, '.answer.json')"
            ]
        }
    ],
    "metadata": {
        "kernelspec": {
            "display_name": "Python (Container)",
            "language": "python",
            "name": "container_env"
        },
        "language_info": {
            "codemirror_mode": {
                "name": "ipython",
                "version": 3
            },
            "file_extension": ".py",
            "mimetype": "text/x-python",
            "name": "python",
            "nbconvert_exporter": "python",
            "pygments_lexer": "ipython3",
            "version": "3.11.13"
        }
    },
    "nbformat": 4,
    "nbformat_minor": 5
}
