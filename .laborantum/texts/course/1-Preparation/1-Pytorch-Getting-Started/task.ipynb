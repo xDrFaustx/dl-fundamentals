{
    "cells": [
        {
            "cell_type": "markdown",
            "metadata": {
                "colab": {
                    "base_uri": "https://localhost:8080/",
                    "height": 949
                },
                "colab_type": "code",
                "executionInfo": {
                    "elapsed": 1704,
                    "status": "error",
                    "timestamp": 1553690684584,
                    "user": {
                        "displayName": "Igor Slinko",
                        "photoUrl": "https://lh4.googleusercontent.com/-KYuH_A0wMqY/AAAAAAAAAAI/AAAAAAAAA70/CFLH5ufF32M/s64/photo.jpg",
                        "userId": "00864276345820379450"
                    },
                    "user_tz": -180
                },
                "id": "HiASrOWHA930",
                "outputId": "9052c75e-70db-47b6-98ad-d76d22fcb18c"
            },
            "source": [
                "# Getting Started with Pytorch"
            ]
        },
        {
            "cell_type": "markdown",
            "metadata": {},
            "source": [
                "Torch is like Numpy. But better. It can automatically calculate symbolic derivative (perform backpropagation) and is able to seamlessly work with accelerators such as:\n",
                "\n",
                "- GPUs\n",
                "- TPUs\n",
                "\n",
                "It also have multiple solutions for productionalization of the models such as:\n",
                "- TorchMobile\n",
                "- TorchServe\n",
                "- TorchTensorRT\n",
                "\n",
                "An also has multiple extensions for different applications such as:\n",
                "- TorchVision\n",
                "- TorchAudio\n",
                "- Transformers\n",
                "- and many others\n",
                "\n",
                "Torch is the state-of-the-art neural network toolkit.\n",
                "\n",
                "In this notebook we will learn, how to work with it on a very basic level as we do it with numpy."
            ]
        },
        {
            "cell_type": "code",
            "execution_count": 1,
            "metadata": {},
            "outputs": [],
            "source": [
                "import json_tricks\n",
                "import torch\n",
                "import lovely_tensors\n",
                "\n",
                "# lovely_tensors.monkey_patch()\n",
                "\n",
                "answer = {}"
            ]
        },
        {
            "cell_type": "markdown",
            "metadata": {},
            "source": [
                "# Task 1: Creating a tensor"
            ]
        },
        {
            "cell_type": "markdown",
            "metadata": {},
            "source": [
                "Create the following tensors:\n",
                "- `X_zeros`, tensor of zeros of shape `[3, 4, 5]` (see `torch.zeros`)\n",
                "- `X_ones`, tensor of ones of the same shape (see `torch.ones`)\n",
                "- `X_custom`, tensor with all the numbers from 1 to 12 in 3 rows and 4 columns, enumerated row-by-row (any approach will work)\n",
                "- `X_random`, tensor with normally distributed random values (see `torch.randn`)"
            ]
        },
        {
            "cell_type": "code",
            "execution_count": 2,
            "metadata": {
                "colab": {},
                "colab_type": "code",
                "id": "om5sXzJcBC3L"
            },
            "outputs": [
                {
                    "name": "stdout",
                    "output_type": "stream",
                    "text": [
                        "X_zeros tensor([[[0., 0., 0., 0., 0.],\n",
                        "         [0., 0., 0., 0., 0.],\n",
                        "         [0., 0., 0., 0., 0.],\n",
                        "         [0., 0., 0., 0., 0.]],\n",
                        "\n",
                        "        [[0., 0., 0., 0., 0.],\n",
                        "         [0., 0., 0., 0., 0.],\n",
                        "         [0., 0., 0., 0., 0.],\n",
                        "         [0., 0., 0., 0., 0.]],\n",
                        "\n",
                        "        [[0., 0., 0., 0., 0.],\n",
                        "         [0., 0., 0., 0., 0.],\n",
                        "         [0., 0., 0., 0., 0.],\n",
                        "         [0., 0., 0., 0., 0.]]])\n",
                        "X_ones tensor([[[1., 1., 1., 1., 1.],\n",
                        "         [1., 1., 1., 1., 1.],\n",
                        "         [1., 1., 1., 1., 1.],\n",
                        "         [1., 1., 1., 1., 1.]],\n",
                        "\n",
                        "        [[1., 1., 1., 1., 1.],\n",
                        "         [1., 1., 1., 1., 1.],\n",
                        "         [1., 1., 1., 1., 1.],\n",
                        "         [1., 1., 1., 1., 1.]],\n",
                        "\n",
                        "        [[1., 1., 1., 1., 1.],\n",
                        "         [1., 1., 1., 1., 1.],\n",
                        "         [1., 1., 1., 1., 1.],\n",
                        "         [1., 1., 1., 1., 1.]]])\n",
                        "X_custom tensor([[ 1.,  2.,  3.,  4.],\n",
                        "        [ 5.,  6.,  7.,  8.],\n",
                        "        [ 9., 10., 11., 12.]])\n",
                        "X_random tensor([[[-0.3863, -0.7582,  2.0197,  2.8321,  0.8746],\n",
                        "         [ 0.9158, -0.7047,  0.9407, -0.9295,  0.5511],\n",
                        "         [ 0.3894,  0.9168, -1.5603,  1.2260, -1.4064],\n",
                        "         [-1.0660, -1.4430, -0.7827,  0.4376,  0.5118]],\n",
                        "\n",
                        "        [[ 0.2124, -1.0503, -0.4258,  1.1127, -0.7854],\n",
                        "         [-0.6292, -0.4229, -0.3023,  0.5669, -1.1538],\n",
                        "         [-0.1633, -0.7281, -0.7287,  0.6378,  0.1640],\n",
                        "         [-1.6179,  0.0594, -0.5646, -1.4174, -0.0279]],\n",
                        "\n",
                        "        [[-0.0403,  1.4207, -1.1575, -0.5104,  0.1350],\n",
                        "         [-0.0366, -2.7047,  1.0554,  0.3901,  0.1524],\n",
                        "         [-1.1818, -0.1103,  2.0279,  0.7604, -0.7311],\n",
                        "         [ 1.0998, -0.3905, -0.5411,  1.1133, -1.4298]]])\n"
                    ]
                }
            ],
            "source": [
                "X_zeros = (\n",
                "    torch.zeros(3, 4, 5)\n",
                ")\n",
                "X_ones = (\n",
                "    torch.ones(3, 4, 5)\n",
                ")\n",
                "\n",
                "X_custom = (\n",
                "    torch.arange(1,13).reshape(3,4).to(torch.float32)\n",
                ")\n",
                "\n",
                "X_random = (\n",
                "    torch.randn(3,4,5)\n",
                ")\n",
                "\n",
                "answer['zeros'] = X_zeros.clone().numpy()\n",
                "answer['ones'] = X_ones.clone().numpy()\n",
                "answer['custom'] = X_custom.clone().numpy()\n",
                "\n",
                "print('X_zeros', X_zeros)\n",
                "print('X_ones', X_ones)\n",
                "print('X_custom', X_custom)\n",
                "print('X_random', X_random)\n"
            ]
        },
        {
            "cell_type": "markdown",
            "metadata": {},
            "source": [
                "# Checking tensor's properties"
            ]
        },
        {
            "cell_type": "markdown",
            "metadata": {},
            "source": [
                "For the tensor called `X_custom`, extract its:\n",
                "- shape\n",
                "- mean value\n",
                "- standard deviation\n",
                "- minimal value\n",
                "- maximal value"
            ]
        },
        {
            "cell_type": "code",
            "execution_count": 3,
            "metadata": {
                "colab": {
                    "base_uri": "https://localhost:8080/",
                    "height": 34
                },
                "colab_type": "code",
                "executionInfo": {
                    "elapsed": 8591,
                    "status": "ok",
                    "timestamp": 1553687458151,
                    "user": {
                        "displayName": "Igor Slinko",
                        "photoUrl": "https://lh4.googleusercontent.com/-KYuH_A0wMqY/AAAAAAAAAAI/AAAAAAAAA70/CFLH5ufF32M/s64/photo.jpg",
                        "userId": "00864276345820379450"
                    },
                    "user_tz": -180
                },
                "id": "vMcUsd3X3vg-",
                "outputId": "487e2919-0875-4df0-ab62-0d1695710a55"
            },
            "outputs": [
                {
                    "name": "stdout",
                    "output_type": "stream",
                    "text": [
                        "shape torch.Size([3, 4])\n",
                        "mean tensor(6.5000)\n",
                        "std tensor(3.6056)\n",
                        "min_val tensor(1.)\n",
                        "max_val tensor(12.)\n"
                    ]
                }
            ],
            "source": [
                "shape = (\n",
                "    X_custom.shape\n",
                ")\n",
                "mean = (\n",
                "    X_custom.mean()\n",
                ")\n",
                "std = (\n",
                "    X_custom.std()\n",
                ")\n",
                "min_val = (\n",
                "    X_custom.min()\n",
                ")\n",
                "max_val = (\n",
                "    X_custom.max()\n",
                ")\n",
                "\n",
                "answer['shape'] = shape\n",
                "answer['mean'] = mean.clone().numpy()\n",
                "answer['std'] = std.clone().numpy()\n",
                "answer['min_val'] = min_val.clone().numpy()\n",
                "answer['max_val'] = max_val.clone().numpy()\n",
                "\n",
                "print('shape', shape)\n",
                "print('mean', mean)\n",
                "print('std', std)\n",
                "print('min_val', min_val)\n",
                "print('max_val', max_val)\n"
            ]
        },
        {
            "cell_type": "markdown",
            "metadata": {},
            "source": [
                "# Slicing the tensors"
            ]
        },
        {
            "cell_type": "markdown",
            "metadata": {},
            "source": [
                "From the matrix, called `X_custom`, extract:\n",
                "- `x_0`: 0th row \n",
                "- `x_1`: 1st row\n",
                "- `x_0_0`: elemnt from 0th row and 0th column\n",
                "- `x_all_0`: 0th column"
            ]
        },
        {
            "cell_type": "code",
            "execution_count": 4,
            "metadata": {
                "colab": {
                    "base_uri": "https://localhost:8080/",
                    "height": 34
                },
                "colab_type": "code",
                "executionInfo": {
                    "elapsed": 8567,
                    "status": "ok",
                    "timestamp": 1553687458154,
                    "user": {
                        "displayName": "Igor Slinko",
                        "photoUrl": "https://lh4.googleusercontent.com/-KYuH_A0wMqY/AAAAAAAAAAI/AAAAAAAAA70/CFLH5ufF32M/s64/photo.jpg",
                        "userId": "00864276345820379450"
                    },
                    "user_tz": -180
                },
                "id": "3RRI7chI4Ylr",
                "outputId": "a0428536-a285-4921-94ab-ac35973e86e8"
            },
            "outputs": [
                {
                    "name": "stdout",
                    "output_type": "stream",
                    "text": [
                        "x_0 tensor([1., 2., 3., 4.])\n",
                        "x_1 tensor([5., 6., 7., 8.])\n",
                        "x_0_0 tensor(1.)\n",
                        "x_all_0 tensor([1., 5., 9.])\n"
                    ]
                }
            ],
            "source": [
                "x = X_custom\n",
                "\n",
                "x_0 = (\n",
                "    x[0]\n",
                ")\n",
                "\n",
                "x_1 = (\n",
                "    x[1]\n",
                ")\n",
                "\n",
                "x_0_0 = (\n",
                "    x[0][0]\n",
                ")\n",
                "\n",
                "x_all_0 = (\n",
                "    x[:, 0]\n",
                ")\n",
                "\n",
                "answer['x_0'] = x_0.clone().numpy()\n",
                "answer['x_1'] = x_1.clone().numpy()\n",
                "answer['x_0_0'] = x_0_0.clone().numpy()\n",
                "answer['x_all_0'] = x_all_0.clone().numpy()\n",
                "\n",
                "print('x_0', x_0)\n",
                "print('x_1', x_1)\n",
                "print('x_0_0', x_0_0)\n",
                "print('x_all_0', x_all_0)"
            ]
        },
        {
            "cell_type": "markdown",
            "metadata": {},
            "source": [
                "# Operations with tensors"
            ]
        },
        {
            "cell_type": "markdown",
            "metadata": {},
            "source": [
                "For the pair of matrices `x` and `y` defined below, find:\n",
                "- `x_and_10`: $X + 10$\n",
                "- `x_squared`: $X^2$ (elementwise)\n",
                "- `x_plus_y`: $X + Y$\n",
                "- `x_times_y`: $X \\cdot Y$ (elementwise)\n",
                "- `x_divided_by_y`: $X / Y$ (elementwise)\n",
                "- `x_mod_y`: $X \\% Y$ (elementwise)\n",
                "- `x_exp`: $\\exp(X)$ (elementwise)\n",
                "- `x_log`: $\\log(X)$ (elementwise)\n",
                "- `x_sin`: $\\sin(X)$ (elementwise)\n",
                "- `x_cos`: $\\cos(X)$ (elementwise)\n",
                "- `x_matmul_y`: $XY$ (matrix multiplication)"
            ]
        },
        {
            "cell_type": "code",
            "execution_count": 5,
            "metadata": {
                "colab": {
                    "base_uri": "https://localhost:8080/",
                    "height": 68
                },
                "colab_type": "code",
                "executionInfo": {
                    "elapsed": 8567,
                    "status": "ok",
                    "timestamp": 1553687458159,
                    "user": {
                        "displayName": "Igor Slinko",
                        "photoUrl": "https://lh4.googleusercontent.com/-KYuH_A0wMqY/AAAAAAAAAAI/AAAAAAAAA70/CFLH5ufF32M/s64/photo.jpg",
                        "userId": "00864276345820379450"
                    },
                    "user_tz": -180
                },
                "id": "byVTqgRs5FhK",
                "outputId": "a55cd10e-dcf2-4257-e889-80b0a2acff24"
            },
            "outputs": [
                {
                    "name": "stdout",
                    "output_type": "stream",
                    "text": [
                        "x_and_10 tensor([[11., 12., 13., 14.],\n",
                        "        [15., 16., 17., 18.],\n",
                        "        [19., 20., 21., 22.]])\n",
                        "x_squared tensor([[  1.,   4.,   9.,  16.],\n",
                        "        [ 25.,  36.,  49.,  64.],\n",
                        "        [ 81., 100., 121., 144.]])\n",
                        "x_plus_y tensor([[13., 13., 13., 13.],\n",
                        "        [13., 13., 13., 13.],\n",
                        "        [13., 13., 13., 13.]])\n",
                        "x_times_y tensor([[12., 22., 30., 36.],\n",
                        "        [40., 42., 42., 40.],\n",
                        "        [36., 30., 22., 12.]])\n",
                        "x_divided_by_y tensor([[ 0.0833,  0.1818,  0.3000,  0.4444],\n",
                        "        [ 0.6250,  0.8571,  1.1667,  1.6000],\n",
                        "        [ 2.2500,  3.3333,  5.5000, 12.0000]])\n",
                        "x_mod_y tensor([[1., 2., 3., 4.],\n",
                        "        [5., 6., 1., 3.],\n",
                        "        [1., 1., 1., 0.]])\n",
                        "x_exp tensor([[2.7183e+00, 7.3891e+00, 2.0086e+01, 5.4598e+01],\n",
                        "        [1.4841e+02, 4.0343e+02, 1.0966e+03, 2.9810e+03],\n",
                        "        [8.1031e+03, 2.2026e+04, 5.9874e+04, 1.6275e+05]])\n",
                        "x_log tensor([[0.0000, 0.6931, 1.0986, 1.3863],\n",
                        "        [1.6094, 1.7918, 1.9459, 2.0794],\n",
                        "        [2.1972, 2.3026, 2.3979, 2.4849]])\n",
                        "x_sin tensor([[ 0.8415,  0.9093,  0.1411, -0.7568],\n",
                        "        [-0.9589, -0.2794,  0.6570,  0.9894],\n",
                        "        [ 0.4121, -0.5440, -1.0000, -0.5366]])\n",
                        "x_cos tensor([[ 0.5403, -0.4161, -0.9900, -0.6536],\n",
                        "        [ 0.2837,  0.9602,  0.7539, -0.1455],\n",
                        "        [-0.9111, -0.8391,  0.0044,  0.8439]])\n",
                        "x_matmul_y tensor([[ 88.,  73.,  58.,  43.],\n",
                        "        [112.,  94.,  76.,  58.],\n",
                        "        [136., 115.,  94.,  73.],\n",
                        "        [160., 136., 112.,  88.]])\n"
                    ]
                }
            ],
            "source": [
                "x = torch.Tensor([[1,  2,  3,  4],\n",
                "                  [5,  6,  7,  8],\n",
                "                  [9, 10, 11, 12]])\n",
                "\n",
                "y = torch.Tensor([[12, 11, 10, 9],\n",
                "                  [8, 7, 6, 5],\n",
                "                  [4, 3, 2, 1]])\n",
                "\n",
                "x_and_10 = (\n",
                "    x + 10\n",
                ")\n",
                "\n",
                "x_squared = (\n",
                "    x ** 2\n",
                ")\n",
                "\n",
                "x_plus_y = (\n",
                "    x + y\n",
                ")\n",
                "\n",
                "x_times_y = (\n",
                "    x * y\n",
                ")\n",
                "\n",
                "x_divided_by_y = (\n",
                "    x / y\n",
                ")\n",
                "\n",
                "x_mod_y = (\n",
                "    x % y\n",
                ")\n",
                "\n",
                "x_exp = (\n",
                "    torch.exp(x)\n",
                ")\n",
                "\n",
                "x_log = (\n",
                "    torch.log(x)\n",
                ")\n",
                "\n",
                "x_sin = (\n",
                "    torch.sin(x)\n",
                ")\n",
                "\n",
                "x_cos = (\n",
                "    torch.cos(x)\n",
                ")\n",
                "\n",
                "x_matmul_y = (\n",
                "    torch.matmul(x.t(),y) # нельзя перемножить матрицы (3х4)*(3x4), поэтому транспонировал y\n",
                ")\n",
                "\n",
                "answer['x_and_10'] = x_and_10.clone().numpy()\n",
                "answer['x_squared'] = x_squared.clone().numpy()\n",
                "answer['x_plus_y'] = x_plus_y.clone().numpy()\n",
                "answer['x_times_y'] = x_times_y.clone().numpy()\n",
                "answer['x_divided_by_y'] = x_divided_by_y.clone().numpy()\n",
                "answer['x_mod_y'] = x_mod_y.clone().numpy()\n",
                "answer['x_exp'] = x_exp.clone().numpy()\n",
                "answer['x_log'] = x_log.clone().numpy()\n",
                "answer['x_sin'] = x_sin.clone().numpy()\n",
                "answer['x_cos'] = x_cos.clone().numpy()\n",
                "answer['x_matmul_y'] = x_matmul_y.clone().numpy()\n",
                "\n",
                "print('x_and_10', x_and_10)\n",
                "print('x_squared', x_squared)\n",
                "print('x_plus_y', x_plus_y)\n",
                "print('x_times_y', x_times_y)\n",
                "print('x_divided_by_y', x_divided_by_y)\n",
                "print('x_mod_y', x_mod_y)\n",
                "print('x_exp', x_exp)\n",
                "print('x_log', x_log)\n",
                "print('x_sin', x_sin)\n",
                "print('x_cos', x_cos)\n",
                "print('x_matmul_y', x_matmul_y)"
            ]
        },
        {
            "cell_type": "markdown",
            "metadata": {},
            "source": [
                "# Conditions and masking"
            ]
        },
        {
            "cell_type": "markdown",
            "metadata": {},
            "source": [
                "For the matrix `x`, do:\n",
                "- `x_greater_than_3` find the mask of all the elements that are greater than `3`\n",
                "- `x_greater_than_3_and_less_than_10` find the mask of all the elements that are greater than `3` and less than `10`\n",
                "- `x_greater_than_10_or_less_than_3` find the mask of all the elements that are either less than `3` or greater than `10`\n",
                "- `x_not_equal_to_3` find the mask of all the elements that are not equal to `3`\n",
                "- `x_vals_greater_than_3` extract all the elements that are greater than `3`"
            ]
        },
        {
            "cell_type": "code",
            "execution_count": 6,
            "metadata": {
                "colab": {
                    "base_uri": "https://localhost:8080/",
                    "height": 68
                },
                "colab_type": "code",
                "executionInfo": {
                    "elapsed": 9288,
                    "status": "ok",
                    "timestamp": 1553687458893,
                    "user": {
                        "displayName": "Igor Slinko",
                        "photoUrl": "https://lh4.googleusercontent.com/-KYuH_A0wMqY/AAAAAAAAAAI/AAAAAAAAA70/CFLH5ufF32M/s64/photo.jpg",
                        "userId": "00864276345820379450"
                    },
                    "user_tz": -180
                },
                "id": "0BYJe2WALg-t",
                "outputId": "623d3433-a258-4f3e-f480-8df7e604b4a0"
            },
            "outputs": [
                {
                    "name": "stdout",
                    "output_type": "stream",
                    "text": [
                        "x_greater_than_3 tensor([[False, False, False,  True],\n",
                        "        [ True,  True,  True,  True],\n",
                        "        [ True,  True,  True,  True]])\n",
                        "x_greater_than_3_and_less_than_10 tensor([[False, False, False,  True],\n",
                        "        [ True,  True,  True,  True],\n",
                        "        [ True, False, False, False]])\n",
                        "x_greater_than_10_or_less_than_3 tensor([[ True,  True, False, False],\n",
                        "        [False, False, False, False],\n",
                        "        [False, False,  True,  True]])\n",
                        "x_not_equal_to_3 tensor([[ True,  True, False,  True],\n",
                        "        [ True,  True,  True,  True],\n",
                        "        [ True,  True,  True,  True]])\n",
                        "x_vals_greater_than_3 tensor([ 4.,  5.,  6.,  7.,  8.,  9., 10., 11., 12.])\n"
                    ]
                }
            ],
            "source": [
                "x_greater_than_3 = (\n",
                "    x > 3\n",
                ")\n",
                "\n",
                "x_greater_than_3_and_less_than_10 = (\n",
                "    (x > 3) & (x <10)\n",
                ")\n",
                "\n",
                "x_greater_than_10_or_less_than_3 = (\n",
                "    (x > 10) | (x < 3)\n",
                ")\n",
                "\n",
                "x_not_equal_to_3 = (\n",
                "    x != 3\n",
                ")\n",
                "\n",
                "x_vals_greater_than_3 = (\n",
                "    x[x > 3]\n",
                ")\n",
                "\n",
                "answer['x_greater_than_3'] = x_greater_than_3.clone().numpy()\n",
                "answer['x_greater_than_3_and_less_than_10'] = x_greater_than_3_and_less_than_10.clone().numpy()\n",
                "answer['x_greater_than_10_or_less_than_3'] = x_greater_than_10_or_less_than_3.clone().numpy()\n",
                "answer['x_not_equal_to_3'] = x_not_equal_to_3.clone().numpy()\n",
                "answer['x_vals_greater_than_3'] = x_vals_greater_than_3.clone().numpy()\n",
                "\n",
                "print('x_greater_than_3', x_greater_than_3)\n",
                "print('x_greater_than_3_and_less_than_10', x_greater_than_3_and_less_than_10)\n",
                "print('x_greater_than_10_or_less_than_3', x_greater_than_10_or_less_than_3)\n",
                "print('x_not_equal_to_3', x_not_equal_to_3)\n",
                "print('x_vals_greater_than_3', x_vals_greater_than_3)"
            ]
        },
        {
            "cell_type": "markdown",
            "metadata": {},
            "source": [
                "# Beware of shallow copying"
            ]
        },
        {
            "cell_type": "markdown",
            "metadata": {},
            "source": [
                "Note that in torch by default the tensors are copied using shallow copy!\n",
                "\n",
                "- `y_shallow`: create a shallow copy of tensor `x`\n",
                "- change element `y_shallow[0, 0]` to `999`\n",
                "- check `x`\n",
                "- you should see the original tensor also changed (because the tensors share memory)"
            ]
        },
        {
            "cell_type": "code",
            "execution_count": 7,
            "metadata": {
                "colab": {
                    "base_uri": "https://localhost:8080/",
                    "height": 119
                },
                "colab_type": "code",
                "executionInfo": {
                    "elapsed": 8095,
                    "status": "ok",
                    "timestamp": 1553687458901,
                    "user": {
                        "displayName": "Igor Slinko",
                        "photoUrl": "https://lh4.googleusercontent.com/-KYuH_A0wMqY/AAAAAAAAAAI/AAAAAAAAA70/CFLH5ufF32M/s64/photo.jpg",
                        "userId": "00864276345820379450"
                    },
                    "user_tz": -180
                },
                "id": "fdwVdDnmLzd2",
                "outputId": "513c155a-e0c8-4ac4-e906-a1f568658127"
            },
            "outputs": [
                {
                    "name": "stdout",
                    "output_type": "stream",
                    "text": [
                        "x_shallow_victim tensor([[999.,   2.,   3.,   4.],\n",
                        "        [  5.,   6.,   7.,   8.],\n",
                        "        [  9.,  10.,  11.,  12.]])\n",
                        "y_shallow tensor([[999.,   2.,   3.,   4.],\n",
                        "        [  5.,   6.,   7.,   8.],\n",
                        "        [  9.,  10.,  11.,  12.]])\n"
                    ]
                }
            ],
            "source": [
                "y_shallow = None\n",
                "y_shallow = x\n",
                "y_shallow[0][0] = 999\n",
                "\n",
                "answer['y_shallow'] = y_shallow.clone().numpy()\n",
                "answer['x_shallow_victim'] = x.clone().numpy()\n",
                "\n",
                "print('x_shallow_victim', x)\n",
                "print('y_shallow', y_shallow)"
            ]
        },
        {
            "cell_type": "code",
            "execution_count": 8,
            "metadata": {
                "colab": {},
                "colab_type": "code",
                "id": "KZA2-dvvMk1P"
            },
            "outputs": [],
            "source": [
                "x = torch.Tensor([[1,  2,  3,  4],\n",
                "                  [5,  6,  7,  8],\n",
                "                  [9, 10, 11, 12]])"
            ]
        },
        {
            "cell_type": "markdown",
            "metadata": {},
            "source": [
                "Now create deep copy \n",
                "- `y_deep` create a deep copy of a tensor `x` using `.clone()` operator\n",
                "- change `y_deep`'s element `[0, 0]` to `999`\n",
                "- check the original tensor\n",
                "- original tensor stays the same!\n"
            ]
        },
        {
            "cell_type": "code",
            "execution_count": 9,
            "metadata": {
                "colab": {
                    "base_uri": "https://localhost:8080/",
                    "height": 119
                },
                "colab_type": "code",
                "executionInfo": {
                    "elapsed": 7222,
                    "status": "ok",
                    "timestamp": 1553687458906,
                    "user": {
                        "displayName": "Igor Slinko",
                        "photoUrl": "https://lh4.googleusercontent.com/-KYuH_A0wMqY/AAAAAAAAAAI/AAAAAAAAA70/CFLH5ufF32M/s64/photo.jpg",
                        "userId": "00864276345820379450"
                    },
                    "user_tz": -180
                },
                "id": "lgePj3UPMRUA",
                "outputId": "40f0c065-29df-4fb0-c344-3e6ceedb004d"
            },
            "outputs": [
                {
                    "name": "stdout",
                    "output_type": "stream",
                    "text": [
                        "x_cloned tensor([[ 1.,  2.,  3.,  4.],\n",
                        "        [ 5.,  6.,  7.,  8.],\n",
                        "        [ 9., 10., 11., 12.]])\n",
                        "y_deep tensor([[999.,   2.,   3.,   4.],\n",
                        "        [  5.,   6.,   7.,   8.],\n",
                        "        [  9.,  10.,  11.,  12.]])\n"
                    ]
                }
            ],
            "source": [
                "y_deep = None\n",
                "y_deep = x.clone()\n",
                "y_deep[0,0] = 999\n",
                "\n",
                "answer['y_deep'] = y_deep.clone().numpy()\n",
                "answer['x_cloned'] = x.clone().numpy()\n",
                "\n",
                "print('x_cloned', x)\n",
                "print('y_deep', y_deep)"
            ]
        },
        {
            "cell_type": "markdown",
            "metadata": {},
            "source": [
                "# Types, devices and casting"
            ]
        },
        {
            "cell_type": "markdown",
            "metadata": {},
            "source": [
                "For the tensor `x`, do:\n",
                "- `x_dtype` find its data type\n",
                "- `x_device` find its device\n",
                "- `x_double` cast the tensor to double\n",
                "- `x_int` cast the tensor to int\n",
                "- `x_float` cast the tensor to float\n",
                "- `x_half` cast tht tensor to half"
            ]
        },
        {
            "cell_type": "code",
            "execution_count": 10,
            "metadata": {
                "colab": {
                    "base_uri": "https://localhost:8080/",
                    "height": 34
                },
                "colab_type": "code",
                "executionInfo": {
                    "elapsed": 6941,
                    "status": "ok",
                    "timestamp": 1553687458908,
                    "user": {
                        "displayName": "Igor Slinko",
                        "photoUrl": "https://lh4.googleusercontent.com/-KYuH_A0wMqY/AAAAAAAAAAI/AAAAAAAAA70/CFLH5ufF32M/s64/photo.jpg",
                        "userId": "00864276345820379450"
                    },
                    "user_tz": -180
                },
                "id": "qvbFh7jqOLZQ",
                "outputId": "8ad47ea8-bf18-4dd6-967b-f9d351edb798"
            },
            "outputs": [
                {
                    "name": "stdout",
                    "output_type": "stream",
                    "text": [
                        "x_dtype torch.float32\n",
                        "x_double tensor([[ 1.,  2.,  3.,  4.],\n",
                        "        [ 5.,  6.,  7.,  8.],\n",
                        "        [ 9., 10., 11., 12.]], dtype=torch.float64)\n",
                        "x_int tensor([[ 1,  2,  3,  4],\n",
                        "        [ 5,  6,  7,  8],\n",
                        "        [ 9, 10, 11, 12]], dtype=torch.int32)\n",
                        "x_float tensor([[ 1.,  2.,  3.,  4.],\n",
                        "        [ 5.,  6.,  7.,  8.],\n",
                        "        [ 9., 10., 11., 12.]])\n",
                        "x_half tensor([[ 1.,  2.,  3.,  4.],\n",
                        "        [ 5.,  6.,  7.,  8.],\n",
                        "        [ 9., 10., 11., 12.]], dtype=torch.float16)\n"
                    ]
                }
            ],
            "source": [
                "x_dtype = (\n",
                "    x.dtype\n",
                ")\n",
                "\n",
                "x_device = (\n",
                "    x.device\n",
                ")\n",
                "\n",
                "x_double = (\n",
                "    x.double()\n",
                ")\n",
                "\n",
                "x_int = (\n",
                "    x.int()\n",
                ")\n",
                "\n",
                "x_float = (\n",
                "    x.float()\n",
                ")\n",
                "\n",
                "x_half = (\n",
                "    x.half()\n",
                ")\n",
                "\n",
                "\n",
                "answer['x_dtype'] = str(x_dtype)\n",
                "answer['x_double'] = x_double.clone().numpy()\n",
                "answer['x_int'] = x_int.clone().numpy()\n",
                "answer['x_float'] = x_float.clone().numpy()\n",
                "answer['x_half'] = x_half.clone().numpy()\n",
                "\n",
                "print('x_dtype', x_dtype)\n",
                "print('x_double', x_double)\n",
                "print('x_int', x_int)\n",
                "print('x_float', x_float)\n",
                "print('x_half', x_half)\n",
                "            "
            ]
        },
        {
            "cell_type": "markdown",
            "metadata": {},
            "source": [
                "# Integration with Numpy"
            ]
        },
        {
            "cell_type": "markdown",
            "metadata": {},
            "source": [
                "For the ndarray `x_np`:\n",
                "- `x_torch`: convert an array to tensor using `from_numpy`\n",
                "- `x_sqrt_np`: calculate `sqrt` of the tensor and convert the result to numpy"
            ]
        },
        {
            "cell_type": "code",
            "execution_count": 11,
            "metadata": {
                "colab": {
                    "base_uri": "https://localhost:8080/",
                    "height": 51
                },
                "colab_type": "code",
                "executionInfo": {
                    "elapsed": 6234,
                    "status": "ok",
                    "timestamp": 1553687458910,
                    "user": {
                        "displayName": "Igor Slinko",
                        "photoUrl": "https://lh4.googleusercontent.com/-KYuH_A0wMqY/AAAAAAAAAAI/AAAAAAAAA70/CFLH5ufF32M/s64/photo.jpg",
                        "userId": "00864276345820379450"
                    },
                    "user_tz": -180
                },
                "id": "MEYxh-ZVOVZC",
                "outputId": "0d9e926e-ddcb-43aa-c467-1d5da612dbcb"
            },
            "outputs": [
                {
                    "name": "stdout",
                    "output_type": "stream",
                    "text": [
                        "x_torch tensor([[1, 2, 3, 4],\n",
                        "        [4, 3, 2, 1]])\n",
                        "x_sqrt_np [[1.        1.4142135 1.7320508 2.       ]\n",
                        " [2.        1.7320508 1.4142135 1.       ]]\n"
                    ]
                }
            ],
            "source": [
                "import numpy as np\n",
                "x_np = np.array([[1, 2, 3, 4],\n",
                "              [4, 3, 2, 1]])\n",
                "\n",
                "x_torch = (\n",
                "    torch.from_numpy(x_np)\n",
                ")\n",
                "x_sqrt_np = (\n",
                "    torch.sqrt(x_torch).numpy()\n",
                ")\n",
                "\n",
                "answer['x_torch'] = x_torch.clone().numpy()\n",
                "answer['x_sqrt_np'] = x_sqrt_np.copy()\n",
                "\n",
                "print('x_torch', x_torch)\n",
                "print('x_sqrt_np', x_sqrt_np)"
            ]
        },
        {
            "cell_type": "markdown",
            "metadata": {},
            "source": [
                "# Working with CUDA"
            ]
        },
        {
            "cell_type": "markdown",
            "metadata": {},
            "source": [
                "Torch is seamlessly integrated with CUDA and GPU calculations.\n",
                "\n",
                "To check it, you can throw this ipynb to Colab and try the cells below. Note that some of them will fail in case you do not have a CUDA device.\n",
                "\n",
                "Besides, Torch can work with\n",
                "- Nvidia GPUs\n",
                "- AMD GPUs\n",
                "- Apple's MPIs\n",
                "- TPUs\n",
                "\n",
                "Also, Torch has very powerful tools for multi-device parallelization"
            ]
        },
        {
            "cell_type": "code",
            "execution_count": 12,
            "metadata": {
                "colab": {
                    "base_uri": "https://localhost:8080/",
                    "height": 34
                },
                "colab_type": "code",
                "executionInfo": {
                    "elapsed": 5053,
                    "status": "ok",
                    "timestamp": 1553687458919,
                    "user": {
                        "displayName": "Igor Slinko",
                        "photoUrl": "https://lh4.googleusercontent.com/-KYuH_A0wMqY/AAAAAAAAAAI/AAAAAAAAA70/CFLH5ufF32M/s64/photo.jpg",
                        "userId": "00864276345820379450"
                    },
                    "user_tz": -180
                },
                "id": "z1JH-OzURJgm",
                "outputId": "dc9ca01d-9508-404e-d0fc-cb91882531ee"
            },
            "outputs": [],
            "source": [
                "# torch.device('cuda:0')"
            ]
        },
        {
            "cell_type": "code",
            "execution_count": 13,
            "metadata": {
                "colab": {
                    "base_uri": "https://localhost:8080/",
                    "height": 34
                },
                "colab_type": "code",
                "executionInfo": {
                    "elapsed": 4909,
                    "status": "ok",
                    "timestamp": 1553687458920,
                    "user": {
                        "displayName": "Igor Slinko",
                        "photoUrl": "https://lh4.googleusercontent.com/-KYuH_A0wMqY/AAAAAAAAAAI/AAAAAAAAA70/CFLH5ufF32M/s64/photo.jpg",
                        "userId": "00864276345820379450"
                    },
                    "user_tz": -180
                },
                "id": "KopsvEhWRVCG",
                "outputId": "6bc2305f-bc76-49ec-8154-0808fc492ff5"
            },
            "outputs": [],
            "source": [
                "# torch.device('cpu')"
            ]
        },
        {
            "cell_type": "code",
            "execution_count": 14,
            "metadata": {
                "colab": {
                    "base_uri": "https://localhost:8080/",
                    "height": 34
                },
                "colab_type": "code",
                "executionInfo": {
                    "elapsed": 4760,
                    "status": "ok",
                    "timestamp": 1553687458921,
                    "user": {
                        "displayName": "Igor Slinko",
                        "photoUrl": "https://lh4.googleusercontent.com/-KYuH_A0wMqY/AAAAAAAAAAI/AAAAAAAAA70/CFLH5ufF32M/s64/photo.jpg",
                        "userId": "00864276345820379450"
                    },
                    "user_tz": -180
                },
                "id": "brlr6kp-Owrp",
                "outputId": "80c44c6e-aab2-4719-9c33-183c85c00db0"
            },
            "outputs": [],
            "source": [
                "# device = torch.device('cuda:0' if torch.cuda.is_available() else 'cpu')\n",
                "# device"
            ]
        },
        {
            "cell_type": "code",
            "execution_count": 15,
            "metadata": {
                "colab": {},
                "colab_type": "code",
                "id": "No2Aa20APGi7"
            },
            "outputs": [],
            "source": [
                "# x_cuda = x.to(device)\n",
                "# x_cuda"
            ]
        },
        {
            "cell_type": "code",
            "execution_count": 16,
            "metadata": {
                "colab": {
                    "base_uri": "https://localhost:8080/",
                    "height": 51
                },
                "colab_type": "code",
                "executionInfo": {
                    "elapsed": 13603,
                    "status": "ok",
                    "timestamp": 1553687468407,
                    "user": {
                        "displayName": "Igor Slinko",
                        "photoUrl": "https://lh4.googleusercontent.com/-KYuH_A0wMqY/AAAAAAAAAAI/AAAAAAAAA70/CFLH5ufF32M/s64/photo.jpg",
                        "userId": "00864276345820379450"
                    },
                    "user_tz": -180
                },
                "id": "b8jHgcD6Puhl",
                "outputId": "bd6ef6ee-f442-4747-c486-535aba1e010e"
            },
            "outputs": [],
            "source": [
                "# %time y = (x - x + x * 10.0) ** 2"
            ]
        },
        {
            "cell_type": "code",
            "execution_count": 17,
            "metadata": {
                "colab": {
                    "base_uri": "https://localhost:8080/",
                    "height": 51
                },
                "colab_type": "code",
                "executionInfo": {
                    "elapsed": 13370,
                    "status": "ok",
                    "timestamp": 1553687468409,
                    "user": {
                        "displayName": "Igor Slinko",
                        "photoUrl": "https://lh4.googleusercontent.com/-KYuH_A0wMqY/AAAAAAAAAAI/AAAAAAAAA70/CFLH5ufF32M/s64/photo.jpg",
                        "userId": "00864276345820379450"
                    },
                    "user_tz": -180
                },
                "id": "TxydcYheP3tQ",
                "outputId": "0b5f5d57-d689-46c5-e470-3e4b57bd64b0"
            },
            "outputs": [],
            "source": [
                "# %time y_cuda = (x_cuda - x_cuda + x_cuda * 10.0) ** 2"
            ]
        },
        {
            "cell_type": "code",
            "execution_count": 12,
            "metadata": {},
            "outputs": [
                {
                    "data": {
                        "text/plain": [
                            "'{\"zeros\": {\"__ndarray__\": [[[0.0, 0.0, 0.0, 0.0, 0.0], [0.0, 0.0, 0.0, 0.0, 0.0], [0.0, 0.0, 0.0, 0.0, 0.0], [0.0, 0.0, 0.0, 0.0, 0.0]], [[0.0, 0.0, 0.0, 0.0, 0.0], [0.0, 0.0, 0.0, 0.0, 0.0], [0.0, 0.0, 0.0, 0.0, 0.0], [0.0, 0.0, 0.0, 0.0, 0.0]], [[0.0, 0.0, 0.0, 0.0, 0.0], [0.0, 0.0, 0.0, 0.0, 0.0], [0.0, 0.0, 0.0, 0.0, 0.0], [0.0, 0.0, 0.0, 0.0, 0.0]]], \"dtype\": \"float32\", \"shape\": [3, 4, 5], \"Corder\": true}, \"ones\": {\"__ndarray__\": [[[1.0, 1.0, 1.0, 1.0, 1.0], [1.0, 1.0, 1.0, 1.0, 1.0], [1.0, 1.0, 1.0, 1.0, 1.0], [1.0, 1.0, 1.0, 1.0, 1.0]], [[1.0, 1.0, 1.0, 1.0, 1.0], [1.0, 1.0, 1.0, 1.0, 1.0], [1.0, 1.0, 1.0, 1.0, 1.0], [1.0, 1.0, 1.0, 1.0, 1.0]], [[1.0, 1.0, 1.0, 1.0, 1.0], [1.0, 1.0, 1.0, 1.0, 1.0], [1.0, 1.0, 1.0, 1.0, 1.0], [1.0, 1.0, 1.0, 1.0, 1.0]]], \"dtype\": \"float32\", \"shape\": [3, 4, 5], \"Corder\": true}, \"custom\": {\"__ndarray__\": [[1.0, 2.0, 3.0, 4.0], [5.0, 6.0, 7.0, 8.0], [9.0, 10.0, 11.0, 12.0]], \"dtype\": \"float32\", \"shape\": [3, 4], \"Corder\": true}, \"shape\": [3, 4], \"mean\": {\"__ndarray__\": 6.5, \"dtype\": \"float32\", \"shape\": []}, \"std\": {\"__ndarray__\": 3.605551242828369, \"dtype\": \"float32\", \"shape\": []}, \"min_val\": {\"__ndarray__\": 1.0, \"dtype\": \"float32\", \"shape\": []}, \"max_val\": {\"__ndarray__\": 12.0, \"dtype\": \"float32\", \"shape\": []}, \"x_0\": {\"__ndarray__\": [1.0, 2.0, 3.0, 4.0], \"dtype\": \"float32\", \"shape\": [4]}, \"x_1\": {\"__ndarray__\": [5.0, 6.0, 7.0, 8.0], \"dtype\": \"float32\", \"shape\": [4]}, \"x_0_0\": {\"__ndarray__\": 1.0, \"dtype\": \"float32\", \"shape\": []}, \"x_all_0\": {\"__ndarray__\": [1.0, 5.0, 9.0], \"dtype\": \"float32\", \"shape\": [3]}, \"x_and_10\": {\"__ndarray__\": [[11.0, 12.0, 13.0, 14.0], [15.0, 16.0, 17.0, 18.0], [19.0, 20.0, 21.0, 22.0]], \"dtype\": \"float32\", \"shape\": [3, 4], \"Corder\": true}, \"x_squared\": {\"__ndarray__\": [[1.0, 4.0, 9.0, 16.0], [25.0, 36.0, 49.0, 64.0], [81.0, 100.0, 121.0, 144.0]], \"dtype\": \"float32\", \"shape\": [3, 4], \"Corder\": true}, \"x_plus_y\": {\"__ndarray__\": [[13.0, 13.0, 13.0, 13.0], [13.0, 13.0, 13.0, 13.0], [13.0, 13.0, 13.0, 13.0]], \"dtype\": \"float32\", \"shape\": [3, 4], \"Corder\": true}, \"x_times_y\": {\"__ndarray__\": [[12.0, 22.0, 30.0, 36.0], [40.0, 42.0, 42.0, 40.0], [36.0, 30.0, 22.0, 12.0]], \"dtype\": \"float32\", \"shape\": [3, 4], \"Corder\": true}, \"x_divided_by_y\": {\"__ndarray__\": [[0.0833333358168602, 0.1818181872367859, 0.30000001192092896, 0.4444444477558136], [0.625, 0.8571428656578064, 1.1666666269302368, 1.600000023841858], [2.25, 3.3333332538604736, 5.5, 12.0]], \"dtype\": \"float32\", \"shape\": [3, 4], \"Corder\": true}, \"x_mod_y\": {\"__ndarray__\": [[1.0, 2.0, 3.0, 4.0], [5.0, 6.0, 1.0, 3.0], [1.0, 1.0, 1.0, 0.0]], \"dtype\": \"float32\", \"shape\": [3, 4], \"Corder\": true}, \"x_exp\": {\"__ndarray__\": [[2.7182817459106445, 7.389056205749512, 20.08553695678711, 54.598148345947266], [148.4131622314453, 403.4288024902344, 1096.6331787109375, 2980.9580078125], [8103.083984375, 22026.46484375, 59874.140625, 162754.796875]], \"dtype\": \"float32\", \"shape\": [3, 4], \"Corder\": true}, \"x_log\": {\"__ndarray__\": [[0.0, 0.6931471824645996, 1.0986123085021973, 1.3862943649291992], [1.6094379425048828, 1.7917594909667969, 1.9459102153778076, 2.079441547393799], [2.1972246170043945, 2.3025851249694824, 2.397895336151123, 2.4849066734313965]], \"dtype\": \"float32\", \"shape\": [3, 4], \"Corder\": true}, \"x_sin\": {\"__ndarray__\": [[0.8414709568023682, 0.9092974066734314, 0.14112000167369843, -0.756802499294281], [-0.9589242935180664, -0.279415488243103, 0.6569865942001343, 0.9893582463264465], [0.41211849451065063, -0.5440211296081543, -0.9999902248382568, -0.5365729331970215]], \"dtype\": \"float32\", \"shape\": [3, 4], \"Corder\": true}, \"x_cos\": {\"__ndarray__\": [[0.5403023362159729, -0.416146844625473, -0.9899924993515015, -0.6536436080932617], [0.28366219997406006, 0.9601702690124512, 0.7539022564888, -0.1455000340938568], [-0.9111302495002747, -0.83907151222229, 0.004425697959959507, 0.8438539505004883]], \"dtype\": \"float32\", \"shape\": [3, 4], \"Corder\": true}, \"x_matmul_y\": {\"__ndarray__\": [[88.0, 73.0, 58.0, 43.0], [112.0, 94.0, 76.0, 58.0], [136.0, 115.0, 94.0, 73.0], [160.0, 136.0, 112.0, 88.0]], \"dtype\": \"float32\", \"shape\": [4, 4], \"Corder\": true}, \"x_greater_than_3\": {\"__ndarray__\": [[false, false, false, true], [true, true, true, true], [true, true, true, true]], \"dtype\": \"bool\", \"shape\": [3, 4], \"Corder\": true}, \"x_greater_than_3_and_less_than_10\": {\"__ndarray__\": [[false, false, false, true], [true, true, true, true], [true, false, false, false]], \"dtype\": \"bool\", \"shape\": [3, 4], \"Corder\": true}, \"x_greater_than_10_or_less_than_3\": {\"__ndarray__\": [[true, true, false, false], [false, false, false, false], [false, false, true, true]], \"dtype\": \"bool\", \"shape\": [3, 4], \"Corder\": true}, \"x_not_equal_to_3\": {\"__ndarray__\": [[true, true, false, true], [true, true, true, true], [true, true, true, true]], \"dtype\": \"bool\", \"shape\": [3, 4], \"Corder\": true}, \"x_vals_greater_than_3\": {\"__ndarray__\": [4.0, 5.0, 6.0, 7.0, 8.0, 9.0, 10.0, 11.0, 12.0], \"dtype\": \"float32\", \"shape\": [9]}, \"y_shallow\": {\"__ndarray__\": [[999.0, 2.0, 3.0, 4.0], [5.0, 6.0, 7.0, 8.0], [9.0, 10.0, 11.0, 12.0]], \"dtype\": \"float32\", \"shape\": [3, 4], \"Corder\": true}, \"x_shallow_victim\": {\"__ndarray__\": [[999.0, 2.0, 3.0, 4.0], [5.0, 6.0, 7.0, 8.0], [9.0, 10.0, 11.0, 12.0]], \"dtype\": \"float32\", \"shape\": [3, 4], \"Corder\": true}, \"y_deep\": {\"__ndarray__\": [[999.0, 2.0, 3.0, 4.0], [5.0, 6.0, 7.0, 8.0], [9.0, 10.0, 11.0, 12.0]], \"dtype\": \"float32\", \"shape\": [3, 4], \"Corder\": true}, \"x_cloned\": {\"__ndarray__\": [[1.0, 2.0, 3.0, 4.0], [5.0, 6.0, 7.0, 8.0], [9.0, 10.0, 11.0, 12.0]], \"dtype\": \"float32\", \"shape\": [3, 4], \"Corder\": true}, \"x_dtype\": \"torch.float32\", \"x_double\": {\"__ndarray__\": [[1.0, 2.0, 3.0, 4.0], [5.0, 6.0, 7.0, 8.0], [9.0, 10.0, 11.0, 12.0]], \"dtype\": \"float64\", \"shape\": [3, 4], \"Corder\": true}, \"x_int\": {\"__ndarray__\": [[1, 2, 3, 4], [5, 6, 7, 8], [9, 10, 11, 12]], \"dtype\": \"int32\", \"shape\": [3, 4], \"Corder\": true}, \"x_float\": {\"__ndarray__\": [[1.0, 2.0, 3.0, 4.0], [5.0, 6.0, 7.0, 8.0], [9.0, 10.0, 11.0, 12.0]], \"dtype\": \"float32\", \"shape\": [3, 4], \"Corder\": true}, \"x_half\": {\"__ndarray__\": [[1.0, 2.0, 3.0, 4.0], [5.0, 6.0, 7.0, 8.0], [9.0, 10.0, 11.0, 12.0]], \"dtype\": \"float16\", \"shape\": [3, 4], \"Corder\": true}, \"x_torch\": {\"__ndarray__\": [[1, 2, 3, 4], [4, 3, 2, 1]], \"dtype\": \"int64\", \"shape\": [2, 4], \"Corder\": true}, \"x_sqrt_np\": {\"__ndarray__\": [[1.0, 1.4142135381698608, 1.7320507764816284, 2.0], [2.0, 1.7320507764816284, 1.4142135381698608, 1.0]], \"dtype\": \"float32\", \"shape\": [2, 4], \"Corder\": true}}'"
                        ]
                    },
                    "execution_count": 12,
                    "metadata": {},
                    "output_type": "execute_result"
                }
            ],
            "source": [
                "from pprint import pprint\n",
                "\n",
                "json_tricks.dump(answer, '.answer.json')"
            ]
        }
    ],
    "metadata": {
        "accelerator": "GPU",
        "colab": {
            "collapsed_sections": [],
            "name": "Seminar1.ipynb",
            "provenance": [],
            "version": "0.3.2"
        },
        "kernelspec": {
            "display_name": "Python (Container)",
            "language": "python",
            "name": "container_env"
        },
        "language_info": {
            "codemirror_mode": {
                "name": "ipython",
                "version": 3
            },
            "file_extension": ".py",
            "mimetype": "text/x-python",
            "name": "python",
            "nbconvert_exporter": "python",
            "pygments_lexer": "ipython3",
            "version": "3.11.13"
        }
    },
    "nbformat": 4,
    "nbformat_minor": 1
}
