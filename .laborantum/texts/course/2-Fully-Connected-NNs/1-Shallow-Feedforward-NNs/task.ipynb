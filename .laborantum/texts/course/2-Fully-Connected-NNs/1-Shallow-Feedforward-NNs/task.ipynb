{
    "cells": [
        {
            "cell_type": "code",
            "execution_count": 32,
            "metadata": {},
            "outputs": [
                {
                    "name": "stdout",
                    "output_type": "stream",
                    "text": [
                        "The autoreload extension is already loaded. To reload it, use:\n",
                        "  %reload_ext autoreload\n"
                    ]
                }
            ],
            "source": [
                "# The following lines enable automatic reloading of modules in an IPython/Jupyter environment.\n",
                "# They work exactly like the commented lines below, but avoid errors when not running in such an environment.\n",
                "# %load_ext autoreload\n",
                "# %autoreload 2\n",
                "\n",
                "try:\n",
                "    # Only defined inside IPython/Jupyter\n",
                "    get_ipython().run_line_magic(\"load_ext\", \"autoreload\")\n",
                "    get_ipython().run_line_magic(\"autoreload\", \"2\")\n",
                "except (NameError, AttributeError):\n",
                "    # Not running in IPython → just ignore\n",
                "    pass\n"
            ]
        },
        {
            "cell_type": "code",
            "execution_count": 33,
            "metadata": {},
            "outputs": [
                {
                    "name": "stdout",
                    "output_type": "stream",
                    "text": [
                        "Requirement already satisfied: neptune in /usr/local/lib/python3.11/site-packages (1.14.0)\n",
                        "Requirement already satisfied: GitPython>=2.0.8 in /usr/local/lib/python3.11/site-packages (from neptune) (3.1.45)\n",
                        "Requirement already satisfied: Pillow>=1.1.6 in /usr/local/lib/python3.11/site-packages (from neptune) (10.3.0)\n",
                        "Requirement already satisfied: PyJWT in /usr/local/lib/python3.11/site-packages (from neptune) (2.10.1)\n",
                        "Requirement already satisfied: boto3>=1.28.0 in /usr/local/lib/python3.11/site-packages (from neptune) (1.40.33)\n",
                        "Requirement already satisfied: bravado<12.0.0,>=11.0.0 in /usr/local/lib/python3.11/site-packages (from neptune) (11.1.0)\n",
                        "Requirement already satisfied: click>=7.0 in /usr/local/lib/python3.11/site-packages (from neptune) (8.2.1)\n",
                        "Requirement already satisfied: future>=0.17.1 in /usr/local/lib/python3.11/site-packages (from neptune) (1.0.0)\n",
                        "Requirement already satisfied: oauthlib>=2.1.0 in /usr/local/lib/python3.11/site-packages (from neptune) (3.3.1)\n",
                        "Requirement already satisfied: packaging in /usr/local/lib/python3.11/site-packages (from neptune) (25.0)\n",
                        "Requirement already satisfied: pandas in /usr/local/lib/python3.11/site-packages (from neptune) (2.2.2)\n",
                        "Requirement already satisfied: psutil in /usr/local/lib/python3.11/site-packages (from neptune) (7.0.0)\n",
                        "Requirement already satisfied: requests>=2.20.0 in /usr/local/lib/python3.11/site-packages (from neptune) (2.32.5)\n",
                        "Requirement already satisfied: requests-oauthlib>=1.0.0 in /usr/local/lib/python3.11/site-packages (from neptune) (2.0.0)\n",
                        "Requirement already satisfied: six>=1.12.0 in /usr/local/lib/python3.11/site-packages (from neptune) (1.17.0)\n",
                        "Requirement already satisfied: swagger-spec-validator>=2.7.4 in /usr/local/lib/python3.11/site-packages (from neptune) (3.0.4)\n",
                        "Requirement already satisfied: typing-extensions>=3.10.0 in /usr/local/lib/python3.11/site-packages (from neptune) (4.15.0)\n",
                        "Requirement already satisfied: urllib3 in /usr/local/lib/python3.11/site-packages (from neptune) (2.5.0)\n",
                        "Requirement already satisfied: websocket-client!=1.0.0,>=0.35.0 in /usr/local/lib/python3.11/site-packages (from neptune) (1.8.0)\n",
                        "Requirement already satisfied: botocore<1.41.0,>=1.40.33 in /usr/local/lib/python3.11/site-packages (from boto3>=1.28.0->neptune) (1.40.33)\n",
                        "Requirement already satisfied: jmespath<2.0.0,>=0.7.1 in /usr/local/lib/python3.11/site-packages (from boto3>=1.28.0->neptune) (1.0.1)\n",
                        "Requirement already satisfied: s3transfer<0.15.0,>=0.14.0 in /usr/local/lib/python3.11/site-packages (from boto3>=1.28.0->neptune) (0.14.0)\n",
                        "Requirement already satisfied: bravado-core>=5.16.1 in /usr/local/lib/python3.11/site-packages (from bravado<12.0.0,>=11.0.0->neptune) (6.1.1)\n",
                        "Requirement already satisfied: monotonic in /usr/local/lib/python3.11/site-packages (from bravado<12.0.0,>=11.0.0->neptune) (1.6)\n",
                        "Requirement already satisfied: msgpack in /usr/local/lib/python3.11/site-packages (from bravado<12.0.0,>=11.0.0->neptune) (1.1.1)\n",
                        "Requirement already satisfied: python-dateutil in /usr/local/lib/python3.11/site-packages (from bravado<12.0.0,>=11.0.0->neptune) (2.9.0.post0)\n",
                        "Requirement already satisfied: pyyaml in /usr/local/lib/python3.11/site-packages (from bravado<12.0.0,>=11.0.0->neptune) (6.0.2)\n",
                        "Requirement already satisfied: simplejson in /usr/local/lib/python3.11/site-packages (from bravado<12.0.0,>=11.0.0->neptune) (3.20.1)\n",
                        "Requirement already satisfied: gitdb<5,>=4.0.1 in /usr/local/lib/python3.11/site-packages (from GitPython>=2.0.8->neptune) (4.0.12)\n",
                        "Requirement already satisfied: charset_normalizer<4,>=2 in /usr/local/lib/python3.11/site-packages (from requests>=2.20.0->neptune) (3.4.3)\n",
                        "Requirement already satisfied: idna<4,>=2.5 in /usr/local/lib/python3.11/site-packages (from requests>=2.20.0->neptune) (3.10)\n",
                        "Requirement already satisfied: certifi>=2017.4.17 in /usr/local/lib/python3.11/site-packages (from requests>=2.20.0->neptune) (2025.8.3)\n",
                        "Requirement already satisfied: jsonschema in /usr/local/lib/python3.11/site-packages (from swagger-spec-validator>=2.7.4->neptune) (4.25.1)\n",
                        "Requirement already satisfied: importlib-resources>=1.3 in /usr/local/lib/python3.11/site-packages (from swagger-spec-validator>=2.7.4->neptune) (6.5.2)\n",
                        "Requirement already satisfied: numpy>=1.23.2 in /usr/local/lib/python3.11/site-packages (from pandas->neptune) (1.26.4)\n",
                        "Requirement already satisfied: pytz>=2020.1 in /usr/local/lib/python3.11/site-packages (from pandas->neptune) (2025.2)\n",
                        "Requirement already satisfied: tzdata>=2022.7 in /usr/local/lib/python3.11/site-packages (from pandas->neptune) (2025.2)\n",
                        "Requirement already satisfied: jsonref in /usr/local/lib/python3.11/site-packages (from bravado-core>=5.16.1->bravado<12.0.0,>=11.0.0->neptune) (1.1.0)\n",
                        "Requirement already satisfied: smmap<6,>=3.0.1 in /usr/local/lib/python3.11/site-packages (from gitdb<5,>=4.0.1->GitPython>=2.0.8->neptune) (5.0.2)\n",
                        "Requirement already satisfied: attrs>=22.2.0 in /usr/local/lib/python3.11/site-packages (from jsonschema->swagger-spec-validator>=2.7.4->neptune) (25.3.0)\n",
                        "Requirement already satisfied: jsonschema-specifications>=2023.03.6 in /usr/local/lib/python3.11/site-packages (from jsonschema->swagger-spec-validator>=2.7.4->neptune) (2025.4.1)\n",
                        "Requirement already satisfied: referencing>=0.28.4 in /usr/local/lib/python3.11/site-packages (from jsonschema->swagger-spec-validator>=2.7.4->neptune) (0.36.2)\n",
                        "Requirement already satisfied: rpds-py>=0.7.1 in /usr/local/lib/python3.11/site-packages (from jsonschema->swagger-spec-validator>=2.7.4->neptune) (0.27.1)\n",
                        "Requirement already satisfied: fqdn in /usr/local/lib/python3.11/site-packages (from jsonschema[format-nongpl]>=2.5.1->bravado-core>=5.16.1->bravado<12.0.0,>=11.0.0->neptune) (1.5.1)\n",
                        "Requirement already satisfied: isoduration in /usr/local/lib/python3.11/site-packages (from jsonschema[format-nongpl]>=2.5.1->bravado-core>=5.16.1->bravado<12.0.0,>=11.0.0->neptune) (20.11.0)\n",
                        "Requirement already satisfied: jsonpointer>1.13 in /usr/local/lib/python3.11/site-packages (from jsonschema[format-nongpl]>=2.5.1->bravado-core>=5.16.1->bravado<12.0.0,>=11.0.0->neptune) (3.0.0)\n",
                        "Requirement already satisfied: rfc3339-validator in /usr/local/lib/python3.11/site-packages (from jsonschema[format-nongpl]>=2.5.1->bravado-core>=5.16.1->bravado<12.0.0,>=11.0.0->neptune) (0.1.4)\n",
                        "Requirement already satisfied: rfc3986-validator>0.1.0 in /usr/local/lib/python3.11/site-packages (from jsonschema[format-nongpl]>=2.5.1->bravado-core>=5.16.1->bravado<12.0.0,>=11.0.0->neptune) (0.1.1)\n",
                        "Requirement already satisfied: rfc3987-syntax>=1.1.0 in /usr/local/lib/python3.11/site-packages (from jsonschema[format-nongpl]>=2.5.1->bravado-core>=5.16.1->bravado<12.0.0,>=11.0.0->neptune) (1.1.0)\n",
                        "Requirement already satisfied: uri-template in /usr/local/lib/python3.11/site-packages (from jsonschema[format-nongpl]>=2.5.1->bravado-core>=5.16.1->bravado<12.0.0,>=11.0.0->neptune) (1.3.0)\n",
                        "Requirement already satisfied: webcolors>=24.6.0 in /usr/local/lib/python3.11/site-packages (from jsonschema[format-nongpl]>=2.5.1->bravado-core>=5.16.1->bravado<12.0.0,>=11.0.0->neptune) (24.11.1)\n",
                        "Requirement already satisfied: lark>=1.2.2 in /usr/local/lib/python3.11/site-packages (from rfc3987-syntax>=1.1.0->jsonschema[format-nongpl]>=2.5.1->bravado-core>=5.16.1->bravado<12.0.0,>=11.0.0->neptune) (1.2.2)\n",
                        "Requirement already satisfied: arrow>=0.15.0 in /usr/local/lib/python3.11/site-packages (from isoduration->jsonschema[format-nongpl]>=2.5.1->bravado-core>=5.16.1->bravado<12.0.0,>=11.0.0->neptune) (1.3.0)\n",
                        "Requirement already satisfied: types-python-dateutil>=2.8.10 in /usr/local/lib/python3.11/site-packages (from arrow>=0.15.0->isoduration->jsonschema[format-nongpl]>=2.5.1->bravado-core>=5.16.1->bravado<12.0.0,>=11.0.0->neptune) (2.9.0.20250822)\n",
                        "\u001b[33mWARNING: Running pip as the 'root' user can result in broken permissions and conflicting behaviour with the system package manager. It is recommended to use a virtual environment instead: https://pip.pypa.io/warnings/venv\u001b[0m\u001b[33m\n",
                        "\u001b[0m\n",
                        "\u001b[1m[\u001b[0m\u001b[34;49mnotice\u001b[0m\u001b[1;39;49m]\u001b[0m\u001b[39;49m A new release of pip is available: \u001b[0m\u001b[31;49m24.0\u001b[0m\u001b[39;49m -> \u001b[0m\u001b[32;49m25.2\u001b[0m\n",
                        "\u001b[1m[\u001b[0m\u001b[34;49mnotice\u001b[0m\u001b[1;39;49m]\u001b[0m\u001b[39;49m To update, run: \u001b[0m\u001b[32;49mpip install --upgrade pip\u001b[0m\n",
                        "Note: you may need to restart the kernel to use updated packages.\n"
                    ]
                }
            ],
            "source": [
                "pip install neptune"
            ]
        },
        {
            "cell_type": "code",
            "execution_count": 34,
            "metadata": {},
            "outputs": [],
            "source": [
                "# Initializing answer variable\n",
                "answer = {}\n"
            ]
        },
        {
            "cell_type": "code",
            "execution_count": 35,
            "metadata": {},
            "outputs": [],
            "source": [
                "# Some libs that we will use\n",
                "import torch\n",
                "import random\n",
                "import numpy as np\n",
                "import json_tricks\n",
                "import lovely_tensors as lt\n",
                "\n",
                "# Making tensor printouts better\n",
                "lt.monkey_patch()\n",
                "\n",
                "# Adding sources to the pythonpath\n",
                "import sys\n",
                "root_path = '../../../..'\n",
                "sys.path.append(root_path)\n",
                "\n",
                "import dotenv\n",
                "dotenv.load_dotenv(dotenv.find_dotenv(root_path + '/.env'))\n",
                "\n",
                "# Importing sources of our project\n",
                "import src\n"
            ]
        },
        {
            "cell_type": "markdown",
            "metadata": {},
            "source": [
                "# Task 0: Prepare the environment"
            ]
        },
        {
            "cell_type": "markdown",
            "metadata": {},
            "source": [
                "For that you have to fill out the function in `src/utils/seed.py`\n",
                "\n",
                "Inside this function you should initialize the libs:\n",
                "- `numpy`\n",
                "- `random`\n",
                "- `torch`\n",
                "\n",
                "It is important for the reproducibility of your code and is always important when running experiments\n",
                "\n",
                "Note that in `torch` you have to seed both `cpu` part of the package along with `gpu` part of the package\n",
                "\n",
                "Yet another important thing to do there is to switch `gpu` to deterministic backend. Otherwise the experiments will not be fully reproducible"
            ]
        },
        {
            "cell_type": "code",
            "execution_count": 36,
            "metadata": {},
            "outputs": [],
            "source": [
                "# src.utils.seed.seed_all(0)\n",
                "random.seed(0)\n",
                "np.random.seed(0)\n",
                "torch.manual_seed(0)\n",
                "torch.cuda.manual_seed(0)\n",
                "torch.backends.cudnn.deterministic = True\n"
            ]
        },
        {
            "cell_type": "markdown",
            "metadata": {},
            "source": [
                "# Training a Fully Connected Feedforward Neural Network"
            ]
        },
        {
            "cell_type": "markdown",
            "metadata": {},
            "source": [
                "In this exercise we will train an FCNN to classify digits into 10 classes (0, 1, 2, ..., 9).\n",
                "\n",
                "To build such network, we will use:\n",
                "- Fully Connected NN\n",
                "- Adam Optimizer\n",
                "- MNIST dataset\n",
                "- Accuracy metrics\n",
                "- Softmax final activation loss function (but we will embed it into the loss function)\n",
                "- Cross-Entropy loss\n",
                "\n",
                "But what really is important in this exercise is that we will build all the elements that we will in the future use to train all other networks. Thus, this exercise is needed to settle the basis for all our future experiments. If you will work with training neural networks, you will use all that we will touch in this notebook in different scenarios.\n",
                "\n",
                "Thus, this notebook is way closer to the real training scenarios than the previous ones."
            ]
        },
        {
            "cell_type": "markdown",
            "metadata": {},
            "source": [
                "# Task 1: Prepare the data\n",
                "\n",
                "What you will be doing in this task is preparing your first dataloader class for one of the most popular datasets for Machine Learning -- MNIST\n",
                "\n",
                "The task is to fill out `src/datasets/mnist_simple.py` file so that you get a correctly working class of dataset (this file should open in parallel to your notebook).\n",
                "\n",
                "You have to fill out the following parts of code:\n",
                "- `__init__` function (a constructor)\n",
                "- `__len__` function (an operator of `len(object)`)\n",
                "- `__getitem__` function (that enables indexing in form of `object[index]`)\n",
                "\n",
                "You will be doing all that when you will be writing your own datasets with one exception: your classes will have significantly more complicated logics.\n",
                "\n",
                "The task here is:\n",
                "- In `__init__` get MNIST dataset from `torchvision.datasets` and initialize it. \n",
                "    Store the data in your home directory (`~/`) to avoid overloading your repo. \n",
                "    Note that you have to account for training and validation datasets that are controlled by the flag `train`\n",
                "- In `__getlen__` the task is to return the number of samples in your data. \n",
                "    It should be number of images in the dataset object\n",
                "\n",
                "- Lastly, you have to implement indexing operator `__getitem__(self, index)`\n",
                "    In this method you should:\n",
                "    - get the image\n",
                "    - get the label\n",
                "    - preprocess the image. This step contains:\n",
                "        - transform the image to a float tensor (the reason is that half is not suppoerted for CPUs)\n",
                "        - a good practice is to normalize the input data to have mean 0 and variance 1, so we should normalize it.\n",
                "            Althouth we do not know exactly the mean and the variance of the dataset, but assuming that every pixel\n",
                "            is in the range 0-255, we can assume that the mean is 127 and the variance is 127.\n",
                "            So we can approximately normalize the input by (x / 255) * 2 - 1\n",
                "            Yes, that is not an exact normalization, but haaving data within range (-1, 1) is a good approximation of normalization\n",
                "    - return the image and the label\n",
                "\n",
                "After that fill out the cell below that initializes objects of the class"
            ]
        },
        {
            "cell_type": "code",
            "execution_count": 37,
            "metadata": {},
            "outputs": [],
            "source": [
                "import torchvision.datasets\n",
                "\n",
                "class MNISTSimpleDataset:\n",
                "    def __init__(self, train=True):\n",
                "        dataset = torchvision.datasets.MNIST(root='~/', train=train, download=True)\n",
                "        self.X = dataset.data\n",
                "        self.y = dataset.targets\n",
                "\n",
                "    def __len__(self):\n",
                "        res = len(self.y)\n",
                "        return res\n",
                "\n",
                "\n",
                "    def __getitem__(self, index):\n",
                "        sample = {}\n",
                "        sample['image'] = self.X[index, :, :].float() / 255.0 * 2 - 1\n",
                "        sample['label'] = self.y[index].long()\n",
                "        \n",
                "        return sample "
            ]
        },
        {
            "cell_type": "code",
            "execution_count": 38,
            "metadata": {},
            "outputs": [],
            "source": [
                "MNIST_train = MNISTSimpleDataset(train=True)\n",
                "MNIST_valid = MNISTSimpleDataset(train=False)\n"
            ]
        },
        {
            "cell_type": "markdown",
            "metadata": {},
            "source": [
                "Check that the data is prepared:"
            ]
        },
        {
            "cell_type": "code",
            "execution_count": 39,
            "metadata": {},
            "outputs": [],
            "source": [
                "train_sample = MNIST_train[0]\n",
                "valid_sample = MNIST_valid[0]\n",
                "\n",
                "X_train = train_sample['image']\n",
                "X_valid = valid_sample['image']\n",
                "y_train = train_sample['label']\n",
                "y_valid = valid_sample['label']\n"
            ]
        },
        {
            "cell_type": "code",
            "execution_count": 40,
            "metadata": {},
            "outputs": [
                {
                    "name": "stdout",
                    "output_type": "stream",
                    "text": [
                        "torch.float32 torch.float32 torch.int64 torch.int64\n",
                        "torch.Size([28, 28]) torch.Size([28, 28]) torch.Size([]) torch.Size([])\n",
                        "tensor[28, 28] n=784 (3.1Kb) x∈[-1.000, 1.000] μ=-0.725 σ=0.625\n",
                        "tensor[28, 28] n=784 (3.1Kb) x∈[-1.000, 1.000] μ=-0.815 σ=0.518\n",
                        "tensor i64 5\n",
                        "tensor i64 7\n"
                    ]
                }
            ],
            "source": [
                "## This checks are for dataset verification\n",
                "answer['X_train.dtype'] = str(X_train.dtype)\n",
                "answer['y_train.dtype'] = str(y_train.dtype)\n",
                "answer['X_valid.dtype'] = str(X_valid.dtype)\n",
                "answer['y_valid.dtype'] = str(y_valid.dtype)\n",
                "answer['X_train.shape'] = X_train.shape\n",
                "answer['X_valid.shape'] = X_valid.shape\n",
                "answer['y_train.shape'] = y_train.shape\n",
                "answer['y_valid.shape'] = y_valid.shape\n",
                "answer['X_train.mean'] = float(X_train.mean())\n",
                "answer['y_train.mean'] = float(y_train.float().mean())\n",
                "answer['X_valid.mean'] = float(X_valid.mean())\n",
                "answer['y_valid.mean'] = float(y_valid.float().mean())\n",
                "\n",
                "print(X_train.dtype, X_valid.dtype, y_train.dtype, y_valid.dtype)\n",
                "print(X_train.shape, X_valid.shape, y_train.shape, y_valid.shape)\n",
                "\n",
                "print(X_train)\n",
                "print(X_valid)\n",
                "print(y_train)\n",
                "print(y_valid)\n"
            ]
        },
        {
            "cell_type": "markdown",
            "metadata": {},
            "source": [
                "Neural networks are usually trained in float values. Usually in `float32` or `float16`. In this exercise we will use `float32` precision.\n",
                "\n",
                "Convert your data to `float` type"
            ]
        },
        {
            "cell_type": "markdown",
            "metadata": {},
            "source": [
                "Let us visualize the data that we have"
            ]
        },
        {
            "cell_type": "code",
            "execution_count": 41,
            "metadata": {},
            "outputs": [
                {
                    "data": {
                        "image/png": "[encoded data removed]",
                        "text/plain": [
                            "<Figure size 640x480 with 1 Axes>"
                        ]
                    },
                    "metadata": {},
                    "output_type": "display_data"
                },
                {
                    "name": "stdout",
                    "output_type": "stream",
                    "text": [
                        "tensor i64 5\n"
                    ]
                }
            ],
            "source": [
                "import matplotlib.pyplot as plt\n",
                "plt.imshow(X_train)\n",
                "plt.show()\n",
                "print(y_train)\n"
            ]
        },
        {
            "cell_type": "markdown",
            "metadata": {},
            "source": [
                "# Task 2: Build the code for the network"
            ]
        },
        {
            "cell_type": "markdown",
            "metadata": {},
            "source": [
                "It is time to create our neural network (edit the file `src/models/feedforward/simple_fcnn.py`, should be open automatically with this chapter).\n",
                "\n",
                "In pytorch to enable all the magic for training, people enherit their models from `torch.nn.Module`.\n",
                "\n",
                "This enables many utilities that will be used in the future.\n",
                "\n",
                "The main two methods that we have to fill are:\n",
                "- `__init__` method that creates all modules of Neural Network\n",
                "    NOTE: you should also intialize the parent class's instance(`torch.nn.Module` by calling `super().__init__()`)\n",
                "- `__call__` method that is used to calculate preditions\n",
                "\n",
                "\n",
                "We will create a network for quite a general case of Fully-Connected Neural Network\n",
                "\n",
                "Here is the network that you should create:\n",
                "- it should have the structure:\n",
                "    - `network`:\n",
                "        - `Linear channels[0] -> channels[1] -> activation`\n",
                "        - `Linear channels[1] -> channels[2] -> activation`\n",
                "        - and so on\n",
                "    - `classifier`:\n",
                "        - `Linear channels[n] -> n_classes`\n",
                "- the signals that you create should traverse the initialized modules according to the order above\n",
                "\n",
                "That is the simple n-layer fully connected network.\n",
                "\n",
                "The network should have two parts:\n",
                "- `backbone` (containing all the layers except for the last linear layer)\n",
                "- `classifier` (containing only the last layer)\n",
                "\n",
                "We like to isolate the classifier separately because it is a very special layer of the network.\n",
                "\n",
                "It also is a very good practice to wrap the modules where one block is executed after another\n",
                "into a `torch.nn.Sequential`.\n",
                "\n",
                "Note that in theory, we should use a SoftMax activation in the end. \n",
                "But in our case, this activation will be joined with the loss function due to mathematical reasons."
            ]
        },
        {
            "cell_type": "markdown",
            "metadata": {},
            "source": [
                "Let us check that your network actually works"
            ]
        },
        {
            "cell_type": "code",
            "execution_count": 42,
            "metadata": {},
            "outputs": [],
            "source": [
                "import torch\n",
                "\n",
                "class SimpleFCNN(torch.nn.Module):\n",
                "    def __init__(\n",
                "            self, \n",
                "            channels=[],\n",
                "            n_classes=10,\n",
                "            activation=torch.nn.ReLU):\n",
                "        super().__init__()\n",
                "        layers = []\n",
                "        for i in range(len(channels) - 1):\n",
                "            layers.append(torch.nn.Linear(channels[i], channels[i+1]))\n",
                "            layers.append(activation())\n",
                "\n",
                "        self.backbone = torch.nn.Sequential(*layers)\n",
                "        self.classifier = torch.nn.Linear(channels[-1], n_classes)\n",
                "\n",
                "    def forward(self, signal):\n",
                "        res = signal.reshape([signal.shape[0], -1])\n",
                "        res = self.backbone(res)\n",
                "        res = self.classifier(res)\n",
                "        return res"
            ]
        },
        {
            "cell_type": "code",
            "execution_count": 43,
            "metadata": {},
            "outputs": [],
            "source": [
                "simple_network = src.models.feedforward.simple_fcnn.SimpleFCNN([28 * 28], n_classes=10)\n",
                "\n",
                "src.utils.deterministic_init(simple_network)\n",
                "\n",
                "check_input = {'image': torch.randn(10, 28 * 28)}\n",
                "check_output = simple_network(check_input['image'])\n",
                "\n",
                "answer['check_result'] = src.utils.detach_copy(check_output)\n"
            ]
        },
        {
            "cell_type": "markdown",
            "metadata": {},
            "source": [
                "# Task 3: Create loss function and optimizer\n",
                "\n"
            ]
        },
        {
            "cell_type": "markdown",
            "metadata": {},
            "source": [
                "All right, so now we have prepared the dataset and the network.\n",
                "We are still missing several other modules that are important for model training:\n",
                "- optimizer\n",
                "- loss function\n",
                "- metrics\n",
                "\n",
                "To train this network we will use the following components:\n",
                "- `AdamW` as an optimizer (`torch.optim.AdamW`) with standard parameters and `lr` equal to $3 \\cdot 10^{-4}$\n",
                "- `CE` as a loss function (`torch.nn.CrossEntropy`). Note that this loss function already includes `SoftMax` activation function (and we should remember that this activation is compatible with this loss function). We could code it ourselves, it is not hard, but the standard implementation from pytorch is numerically more stable\n",
                "- `accuracy` as a metrics (we will use the one coded in `torchmetrics`)\n",
                "\n",
                "There are also several training tricks that are very nice to use.\n",
                "As such, we will use the learning rate scheduler `torch.optim.schedulers.ReduceLROnPlateu`\n",
                "\n",
                "Let us prepare what we need now!"
            ]
        },
        {
            "cell_type": "code",
            "execution_count": null,
            "metadata": {},
            "outputs": [],
            "source": [
                "import torchmetrics\n",
                "\n",
                "loss = torch.nn.CrossEntropyLoss()\n",
                "optimizer = torch.optim.AdamW(simple_network.parameters(), lr=3e-4)\n",
                "scheduler = torch.optim.lr_scheduler.ReduceLROnPlateau(optimizer)\n",
                "metrics = torchmetrics.Accuracy(task='multiclass', num_classes=10)\n"
            ]
        },
        {
            "cell_type": "code",
            "execution_count": 45,
            "metadata": {},
            "outputs": [
                {
                    "name": "stdout",
                    "output_type": "stream",
                    "text": [
                        "CrossEntropyLoss()\n",
                        "AdamW (\n",
                        "Parameter Group 0\n",
                        "    amsgrad: False\n",
                        "    betas: (0.9, 0.999)\n",
                        "    capturable: False\n",
                        "    decoupled_weight_decay: True\n",
                        "    differentiable: False\n",
                        "    eps: 1e-08\n",
                        "    foreach: None\n",
                        "    fused: None\n",
                        "    lr: 0.0003\n",
                        "    maximize: False\n",
                        "    weight_decay: 0.01\n",
                        ")\n",
                        "<torch.optim.lr_scheduler.ReduceLROnPlateau object at 0x7f35228f5350>\n",
                        "MulticlassAccuracy()\n"
                    ]
                }
            ],
            "source": [
                "answer['loss'] = str(loss)\n",
                "answer['optimizer'] = str(optimizer)\n",
                "answer['scheduler'] = str(scheduler)\n",
                "answer['metrics'] = str(metrics)\n",
                "\n",
                "print(loss)\n",
                "print(optimizer)\n",
                "print(scheduler)\n",
                "print(metrics)\n"
            ]
        },
        {
            "cell_type": "markdown",
            "metadata": {},
            "source": [
                "# Task 4: Create DataLoaders"
            ]
        },
        {
            "cell_type": "markdown",
            "metadata": {},
            "source": [
                "Now it is time to start the training process\n",
                "\n",
                "Firstly, we need to turn our datasets into dataloaders (dataloaders know, how to create batches of data and takes care of shuffling them)\n",
                "\n",
                "You should use the class `torch.utils.data.DataLoader` to create training and validation dataloaders.\n",
                "\n",
                "What is important here is that you should shuffle the data for training, while you should not do it during validation.\n",
                "\n",
                "Also the last batch of the training dataloader may be deficient and should be dropped (there is a special option in the DataLoader class dedicated for that).\n",
                "\n",
                "Use batch size that is given below"
            ]
        },
        {
            "cell_type": "code",
            "execution_count": 46,
            "metadata": {},
            "outputs": [],
            "source": [
                "from tqdm import trange, tqdm\n",
                "import os\n",
                "\n",
                "batch_size = 32\n",
                "\n",
                "train_dl = torch.utils.data.DataLoader(\n",
                "    MNIST_train,\n",
                "    batch_size=batch_size,\n",
                "    shuffle=True,\n",
                "    drop_last=True)\n",
                "\n",
                "valid_dl = torch.utils.data.DataLoader(\n",
                "    MNIST_valid,\n",
                "    batch_size=batch_size,\n",
                "    shuffle=False)\n"
            ]
        },
        {
            "cell_type": "markdown",
            "metadata": {},
            "source": [
                "# Task 5: Create training loop"
            ]
        },
        {
            "cell_type": "markdown",
            "metadata": {},
            "source": [
                "Firstly, we will use a service that allows to share the training reports. I strongly recommend using mlflow for your experiments, but for the sake of being able to share the results, we will use [neptune.ai](https://neptune.ai/)\n",
                "\n",
                "Create an account there, create your first experiment (and name it something like `MNIST FCNN`)\n",
                "\n",
                "Then create run with `neptune.ai` in your code.\n",
                "\n",
                "After that you will be able to see on that website the flow of your experiment.\n",
                "\n",
                "Then it is time to create the training cycle.\n",
                "\n",
                "Training cycles usually are custom for every network, because of that we will not create one for all the cases.\n",
                "\n",
                "Training cycles run in epochs each containing 2 stages:\n",
                "- training\n",
                "- validation\n",
                "\n",
                "Here is what you should do in the training stage:\n",
                "1. extract training batch from training dataloader\n",
                "2. switch the network to training state (`model.train()`)(will be important for batchnorms and some other modules)\n",
                "2. generate predictions from the training inputs using the model (`model(inputs)`)\n",
                "3. calculate the value of the loss that compares the predictions to the targets\n",
                "4. perform backpropagation (`loss_val.backward()`)\n",
                "5. make optimization step  with optimizer (`optimizer.step()`)\n",
                "6. reset optimizer's gradients (`optimizer.zero_grad()`)\n",
                "7. switch the network to validation state (`model.eval()`)\n",
                "8. evaluate training the accuracy of your model and update metrics that keep track of accuracy and loss (averaged throughout the training step)\n",
                "\n",
                "This should be done in iterations for all training batches that come out from `train_dl`\n",
                "\n",
                "Note that it is extremely important to do `detach` when you memorize accuracy and loss values so that after each iteration RAM is freed automatically by pytorch (because in case we plan to perform backprop, all the intermediate values are needed, and cannot be freed).\n",
                "\n",
                "Once in a while, if you experience RAM leakage, you should make sure that you detach metrics and loss values that you memorize. In case that does not help, delete all the variables manually and after that call pythons's garbage collector (`gc.collect()`). This will help pytorch with cleaning RAM.\n",
                "\n",
                "If you do not want to think about detaching and other aspects of graph backpropagation in some part of your code, you may use `torch.no_grad()` context. Exactly that statement we will use during validation stage of the cycle. This context also can be used as a decorator of a function that does not require gradient propagation.\n",
                "\n",
                "Now it is time to do validation:\n",
                "- make prediction for validation data\n",
                "- calculate accuracy for the predictions for both sets\n",
                "- calculate loss function for the predictions for both sets\n",
                "\n",
                "Note that the code should look very similarly to training cycle. The only difference is that this time we do not perform backpropagation and optimizer step.\n",
                "\n",
                "By the end of each epoch, submit the report about accuracies that you gotten and loss values to neptune.ai (run['losses/loss_value/train'].log(train_loss_value))"
            ]
        },
        {
            "cell_type": "code",
            "execution_count": null,
            "metadata": {},
            "outputs": [
                {
                    "name": "stdout",
                    "output_type": "stream",
                    "text": [
                        "1 / 5\n"
                    ]
                },
                {
                    "name": "stderr",
                    "output_type": "stream",
                    "text": [
                        "100%|██████████| 1875/1875 [00:18<00:00, 99.63it/s] \n",
                        "100%|██████████| 313/313 [00:01<00:00, 312.20it/s]\n"
                    ]
                },
                {
                    "name": "stdout",
                    "output_type": "stream",
                    "text": [
                        "0.49999999999950073 <- Validation accuracy debug\n",
                        "2 / 5\n"
                    ]
                },
                {
                    "name": "stderr",
                    "output_type": "stream",
                    "text": [
                        "100%|██████████| 1875/1875 [00:09<00:00, 202.65it/s]\n",
                        "100%|██████████| 313/313 [00:00<00:00, 398.41it/s]\n"
                    ]
                },
                {
                    "name": "stdout",
                    "output_type": "stream",
                    "text": [
                        "0.6874999999993135 <- Validation accuracy debug\n",
                        "3 / 5\n"
                    ]
                },
                {
                    "name": "stderr",
                    "output_type": "stream",
                    "text": [
                        "100%|██████████| 1875/1875 [00:07<00:00, 240.01it/s]\n",
                        "100%|██████████| 313/313 [00:00<00:00, 372.04it/s]\n"
                    ]
                },
                {
                    "name": "stdout",
                    "output_type": "stream",
                    "text": [
                        "0.7187499999992824 <- Validation accuracy debug\n",
                        "4 / 5\n"
                    ]
                },
                {
                    "name": "stderr",
                    "output_type": "stream",
                    "text": [
                        "100%|██████████| 1875/1875 [00:08<00:00, 220.69it/s]\n",
                        "100%|██████████| 313/313 [00:01<00:00, 262.10it/s]\n"
                    ]
                },
                {
                    "name": "stdout",
                    "output_type": "stream",
                    "text": [
                        "0.78124999999922 <- Validation accuracy debug\n",
                        "5 / 5\n"
                    ]
                },
                {
                    "name": "stderr",
                    "output_type": "stream",
                    "text": [
                        "100%|██████████| 1875/1875 [00:09<00:00, 196.84it/s]\n",
                        "100%|██████████| 313/313 [00:00<00:00, 352.95it/s]"
                    ]
                },
                {
                    "name": "stdout",
                    "output_type": "stream",
                    "text": [
                        "0.8749999999991264 <- Validation accuracy debug\n"
                    ]
                },
                {
                    "name": "stderr",
                    "output_type": "stream",
                    "text": [
                        "\n"
                    ]
                }
            ],
            "source": [
                "n_epochs = 5\n",
                "\n",
                "def train_model(model, n_epochs, train_dl, valid_dl, loss, optimizer):\n",
                "    train_loss_history = []\n",
                "    train_acc_history = []\n",
                "    valid_loss_history = []\n",
                "    valid_acc_history = []\n",
                "\n",
                "    ## INITILIZING EXPERIMENT TRACKER (neptune.ai, mlflow, tensorboard, etc)\n",
                "    # run = neptune.init_run(\n",
                "        ## YOUR CODE HERE\n",
                "    # )\n",
                "\n",
                "    for epoch in range(n_epochs):\n",
                "        train_loss = {'enumerator': 0.0, 'denominator': 1.0e-8}\n",
                "        train_acc = {'enumerator': 0.0, 'denominator': 1.0e-8}\n",
                "        valid_loss = {'enumerator': 0.0, 'denominator': 1.0e-8}\n",
                "        valid_acc = {'enumerator': 0.0, 'denominator': 1.0e-8}\n",
                "\n",
                "        print(epoch + 1, '/', n_epochs)\n",
                "\n",
                "        for batch in tqdm(train_dl):\n",
                "            images = batch['image'].view(-1, 28*28)\n",
                "            labels = batch['label']\n",
                "\n",
                "            outputs = model(images)\n",
                "            loss_value = loss(outputs, labels)\n",
                "            \n",
                "            optimizer.zero_grad()\n",
                "            loss_value.backward()\n",
                "            optimizer.step()\n",
                "\n",
                "            train_loss['enumerator'] += loss_value.item() * images.size(0)\n",
                "            train_loss['denominator'] += images.size(0)\n",
                "\n",
                "            _, predicted = torch.max(outputs.data, 1)\n",
                "            train_acc['enumerator'] += (predicted == labels).sum().item()\n",
                "            train_acc['denominator'] += images.size(0)\n",
                "        \n",
                "        model.eval()\n",
                "\n",
                "        with torch.no_grad():\n",
                "            for valid_batch in tqdm(valid_dl):\n",
                "                images = batch['image'].view(-1, 28*28)\n",
                "                lables = batch['label']\n",
                "\n",
                "                outputs = model(images)\n",
                "                loss_value = loss(outputs, labels)\n",
                "\n",
                "                valid_loss['enumerator'] += loss_value.item() * images.size(0)\n",
                "                valid_loss['denominator'] += images.size(0)\n",
                "\n",
                "                _, predicted = torch.max(outputs.data, 1)\n",
                "                valid_acc['enumerator'] += (predicted == labels).sum().item()\n",
                "                valid_acc['denominator'] += labels.size(0)\n",
                "\n",
                "            print(valid_acc['enumerator'] / valid_acc['denominator'], '<- Validation accuracy debug')\n",
                "\n",
                "            finalized_train_loss = train_loss['enumerator'] / train_loss['denominator']\n",
                "            finalized_train_accuracy = train_acc['enumerator'] / train_acc['denominator']\n",
                "\n",
                "            finalized_valid_loss = valid_loss['enumerator'] / valid_loss['denominator']\n",
                "            finalized_valid_accuracy = valid_acc['enumerator'] / valid_acc['denominator']\n",
                "\n",
                "            # Logging the progress to tracker\n",
                "\n",
                "            train_loss_history.append(finalized_train_loss)\n",
                "            train_acc_history.append(finalized_train_accuracy)\n",
                "            valid_loss_history.append(finalized_valid_loss)\n",
                "            valid_acc_history.append(finalized_valid_accuracy)\n",
                "\n",
                "    # Stopping the experiment tracker\n",
                "    # run.stop()\n",
                "    return train_loss_history, train_acc_history, valid_loss_history, valid_acc_history\n",
                "\n",
                "train_loss_history, train_acc_history, valid_loss_history, valid_acc_history = train_model(simple_network, n_epochs, train_dl, valid_dl, loss, optimizer)\n"
            ]
        },
        {
            "cell_type": "code",
            "execution_count": 48,
            "metadata": {},
            "outputs": [
                {
                    "data": {
                        "text/plain": [
                            "'{\"X_train.dtype\": \"torch.float32\", \"y_train.dtype\": \"torch.int64\", \"X_valid.dtype\": \"torch.float32\", \"y_valid.dtype\": \"torch.int64\", \"X_train.shape\": [28, 28], \"X_valid.shape\": [28, 28], \"y_train.shape\": [], \"y_valid.shape\": [], \"X_train.mean\": -0.7246397137641907, \"y_train.mean\": 5.0, \"X_valid.mean\": -0.815386176109314, \"y_valid.mean\": 7.0, \"check_result\": {\"__ndarray__\": [[47.534400939941406, 36.74652099609375, 25.958641052246094, 15.170763969421387, 4.38288688659668, -6.404989242553711, -17.1928653717041, -27.98073959350586, -38.76861572265625, -49.55651092529297], [34.737178802490234, 26.7078914642334, 18.678592681884766, 10.649308204650879, 2.6200146675109863, -5.409275054931641, -13.438562393188477, -21.467849731445312, -29.497146606445312, -37.526432037353516], [-26.242555618286133, -20.858619689941406, -15.474696159362793, -10.0907564163208, -4.706827640533447, 0.6771035194396973, 6.061039924621582, 11.44497013092041, 16.828895568847656, 22.212844848632812], [-48.49083709716797, -38.16117477416992, -27.831565856933594, -17.50193977355957, -7.1723246574401855, 3.157294750213623, 13.486918449401855, 23.816532135009766, 34.14616394042969, 44.47576904296875], [37.540931701660156, 28.979583740234375, 20.418245315551758, 11.856898307800293, 3.2955543994903564, -5.26578426361084, -13.827125549316406, -22.388473510742188, -30.949810028076172, -39.51114273071289], [13.687231063842773, 10.551872253417969, 7.416502475738525, 4.281138896942139, 1.1457712650299072, -1.9895963668823242, -5.124964714050293, -8.260330200195312, -11.395695686340332, -14.531064987182617], [-3.881659507751465, -3.277543067932129, -2.6734061241149902, -2.069279670715332, -1.4651415348052979, -0.8610093593597412, -0.25687599182128906, 0.34725475311279297, 0.9513888359069824, 1.555516242980957], [11.4384126663208, 8.71611213684082, 5.993810176849365, 3.2715115547180176, 0.5492098927497864, -2.1730899810791016, -4.895392417907715, -7.617691516876221, -10.33999252319336, -13.06229019165039], [18.083681106567383, 13.631848335266113, 9.180013656616211, 4.728176593780518, 0.27634334564208984, -4.175490379333496, -8.627325057983398, -13.079163551330566, -17.53099822998047, -21.98283576965332], [6.34683084487915, 4.472463607788086, 2.598083972930908, 0.7237236499786377, -1.1506404876708984, -3.0250062942504883, -4.899375915527344, -6.773740291595459, -8.648101806640625, -10.522464752197266]], \"dtype\": \"float32\", \"shape\": [10, 10], \"Corder\": true}, \"loss\": \"CrossEntropyLoss()\", \"optimizer\": \"AdamW (\\\\nParameter Group 0\\\\n    amsgrad: False\\\\n    betas: (0.9, 0.999)\\\\n    capturable: False\\\\n    decoupled_weight_decay: True\\\\n    differentiable: False\\\\n    eps: 1e-08\\\\n    foreach: None\\\\n    fused: None\\\\n    lr: 0.0003\\\\n    maximize: False\\\\n    weight_decay: 0.01\\\\n)\", \"scheduler\": \"<torch.optim.lr_scheduler.ReduceLROnPlateau object at 0x7f35228f5350>\", \"metrics\": \"MulticlassAccuracy()\", \"train_loss_history\": [296.3330026061518, 59.09708717650383, 6.159351145727403, 2.9460736459150967, 1.709972044353585], \"valid_loss_history\": [67.27854919426876, 19.20454406736364, 4.251138210292386, 3.1707744598357013, 1.7240562438947629], \"train_acc_history\": [0.2521833333332913, 0.5083499999999153, 0.7112333333332148, 0.7891333333332019, 0.8359833333331941], \"valid_ann_history\": [0.49999999999950073, 0.6874999999993135, 0.7187499999992824, 0.78124999999922, 0.8749999999991264]}'"
                        ]
                    },
                    "execution_count": 48,
                    "metadata": {},
                    "output_type": "execute_result"
                }
            ],
            "source": [
                "answer['train_loss_history'] = train_loss_history\n",
                "answer['valid_loss_history'] = valid_loss_history\n",
                "answer['train_acc_history'] = train_acc_history\n",
                "answer['valid_ann_history'] = valid_acc_history\n",
                "\n",
                "json_tricks.dump(answer, '.answer.json')\n"
            ]
        },
        {
            "cell_type": "markdown",
            "metadata": {},
            "source": [
                "# Task 7. Experiment time!"
            ]
        },
        {
            "cell_type": "markdown",
            "metadata": {},
            "source": [
                "It is the time for fun now!\n",
                "\n",
                "We have created everything that is needed for the network to train.\n",
                "\n",
                "Let us train some networks and visualize, what they see.\n",
                "\n",
                "With the code that you have created, make:\n",
                "- 1-layer FCNN (yes, simple Multiclass Logistic Regression)\n",
                "- 2-layer FCNN\n",
                "- 3-layer FCNN \n",
                "\n",
                "Train every of these networks for 100 epochs\n",
                "\n",
                "Check, what are the patterns that they learn\n",
                "\n",
                "To check the patterns, you have to take the weights of the first layer of the network, reshape them and plot."
            ]
        },
        {
            "cell_type": "code",
            "execution_count": 49,
            "metadata": {},
            "outputs": [
                {
                    "name": "stdout",
                    "output_type": "stream",
                    "text": [
                        "1 / 5\n"
                    ]
                },
                {
                    "name": "stderr",
                    "output_type": "stream",
                    "text": [
                        "100%|██████████| 1875/1875 [00:11<00:00, 169.51it/s]\n",
                        "100%|██████████| 313/313 [00:00<00:00, 348.75it/s]\n"
                    ]
                },
                {
                    "name": "stdout",
                    "output_type": "stream",
                    "text": [
                        "0.9062499999990952 <- Validation accuracy debug\n",
                        "2 / 5\n"
                    ]
                },
                {
                    "name": "stderr",
                    "output_type": "stream",
                    "text": [
                        "100%|██████████| 1875/1875 [00:07<00:00, 254.80it/s]\n",
                        "100%|██████████| 313/313 [00:00<00:00, 324.88it/s]\n"
                    ]
                },
                {
                    "name": "stdout",
                    "output_type": "stream",
                    "text": [
                        "0.937499999999064 <- Validation accuracy debug\n",
                        "3 / 5\n"
                    ]
                },
                {
                    "name": "stderr",
                    "output_type": "stream",
                    "text": [
                        "100%|██████████| 1875/1875 [00:07<00:00, 252.88it/s]\n",
                        "100%|██████████| 313/313 [00:00<00:00, 361.21it/s]\n"
                    ]
                },
                {
                    "name": "stdout",
                    "output_type": "stream",
                    "text": [
                        "0.937499999999064 <- Validation accuracy debug\n",
                        "4 / 5\n"
                    ]
                },
                {
                    "name": "stderr",
                    "output_type": "stream",
                    "text": [
                        "100%|██████████| 1875/1875 [00:07<00:00, 260.45it/s]\n",
                        "100%|██████████| 313/313 [00:01<00:00, 301.48it/s]\n"
                    ]
                },
                {
                    "name": "stdout",
                    "output_type": "stream",
                    "text": [
                        "0.937499999999064 <- Validation accuracy debug\n",
                        "5 / 5\n"
                    ]
                },
                {
                    "name": "stderr",
                    "output_type": "stream",
                    "text": [
                        "100%|██████████| 1875/1875 [00:06<00:00, 273.27it/s]\n",
                        "100%|██████████| 313/313 [00:01<00:00, 289.32it/s]"
                    ]
                },
                {
                    "name": "stdout",
                    "output_type": "stream",
                    "text": [
                        "0.8124999999991888 <- Validation accuracy debug\n"
                    ]
                },
                {
                    "name": "stderr",
                    "output_type": "stream",
                    "text": [
                        "\n"
                    ]
                },
                {
                    "data": {
                        "text/plain": [
                            "([0.4284790127077978,\n",
                            "  0.3254517220456853,\n",
                            "  0.3104273729254285,\n",
                            "  0.3047023269861429,\n",
                            "  0.29976520795568795],\n",
                            " [0.8772833333331872,\n",
                            "  0.9058166666665157,\n",
                            "  0.9113333333331815,\n",
                            "  0.9130166666665145,\n",
                            "  0.9138333333331811],\n",
                            " [0.5193895101542055,\n",
                            "  0.35246470570529076,\n",
                            "  0.18337394297104645,\n",
                            "  0.17002278566343498,\n",
                            "  0.3813928663726813],\n",
                            " [0.9062499999990952,\n",
                            "  0.937499999999064,\n",
                            "  0.937499999999064,\n",
                            "  0.937499999999064,\n",
                            "  0.8124999999991888])"
                        ]
                    },
                    "execution_count": 49,
                    "metadata": {},
                    "output_type": "execute_result"
                }
            ],
            "source": [
                "one_layer_fcnn = src.models.feedforward.simple_fcnn.SimpleFCNN(\n",
                "    [28 * 28],\n",
                "    n_classes=10,\n",
                "    activation=torch.nn.LeakyReLU)\n",
                "\n",
                "## YOUR CODE HERE\n",
                "\n",
                "one_layer_optimizer = torch.optim.AdamW(one_layer_fcnn.parameters(), lr=1.0e-3)\n",
                "train_model(one_layer_fcnn, n_epochs, train_dl, valid_dl, loss, one_layer_optimizer)\n",
                "## YOUR CODE HERE\n"
            ]
        },
        {
            "cell_type": "code",
            "execution_count": 50,
            "metadata": {},
            "outputs": [
                {
                    "data": {
                        "text/plain": [
                            "<matplotlib.image.AxesImage at 0x7f33ed8f2790>"
                        ]
                    },
                    "execution_count": 50,
                    "metadata": {},
                    "output_type": "execute_result"
                },
                {
                    "data": {
                        "image/png": "[encoded data removed]",
                        "text/plain": [
                            "<Figure size 640x480 with 1 Axes>"
                        ]
                    },
                    "metadata": {},
                    "output_type": "display_data"
                }
            ],
            "source": [
                "W = one_layer_fcnn.classifier.weight\n",
                "W = W.reshape(10, 28, 28)\n",
                "plt.imshow(W[0].detach())\n"
            ]
        },
        {
            "cell_type": "code",
            "execution_count": 51,
            "metadata": {},
            "outputs": [],
            "source": [
                "## YOUR CODE HERE\n"
            ]
        },
        {
            "cell_type": "markdown",
            "metadata": {},
            "source": [
                "# Time to think\n",
                "\n",
                "What converges faster\n",
                "- 1-layer NN (Logistic Regression)\n",
                "- 2-layer NN\n",
                "- 3-layer NN\n",
                "\n",
                "Maybe you want to train a deeper network? Say, with 10 layers?\n",
                "\n",
                "What do the patterns from 1-layer NN resemble? Should they?\n",
                "What do the patterns from 2-layer and 3-layer NN resemble? Should they?"
            ]
        },
        {
            "cell_type": "markdown",
            "metadata": {},
            "source": [
                "# Task 8. More experiments!\n",
                "\n",
                "Try to train the networks created above with different actiavtion functions (Concentrate on 2-Layer NN):\n",
                "- Sigmoid\n",
                "- Tanh\n",
                "- ReLU\n",
                "- LeakyReLU\n",
                "- Swish\n",
                "\n",
                "Try to train them with optimizers\n",
                "- AdamW\n",
                "- SGD\n",
                "\n",
                "Which one is easier to tune?\n",
                "\n",
                "Try to train these networks on Google Colab for longer\n",
                "Find the best possible batch size (note that the batch sizes usually are selected as powers of 2)\n",
                "- 2\n",
                "- 4\n",
                "- 8\n",
                "- 16\n",
                "- etc.\n",
                "\n",
                "Share your best recepie with everyone and discuss, how did you improve your results"
            ]
        }
    ],
    "metadata": {
        "accelerator": "GPU",
        "colab": {
            "collapsed_sections": [],
            "name": "Lesson 5 Digits Recognition Video.ipynb",
            "provenance": [],
            "version": "0.3.2"
        },
        "kernelspec": {
            "display_name": "Python (Container)",
            "language": "python",
            "name": "container_env"
        },
        "language_info": {
            "codemirror_mode": {
                "name": "ipython",
                "version": 3
            },
            "file_extension": ".py",
            "mimetype": "text/x-python",
            "name": "python",
            "nbconvert_exporter": "python",
            "pygments_lexer": "ipython3",
            "version": "3.11.13"
        }
    },
    "nbformat": 4,
    "nbformat_minor": 1
}
